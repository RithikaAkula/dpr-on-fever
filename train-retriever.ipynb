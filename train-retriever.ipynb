{
 "cells": [
  {
   "cell_type": "markdown",
   "id": "c196b13c",
   "metadata": {},
   "source": [
    "## GETTING HARD NEGATIVES"
   ]
  },
  {
   "cell_type": "code",
   "execution_count": 1,
   "id": "d15f0fd5",
   "metadata": {},
   "outputs": [],
   "source": [
    "import logging\n",
    "from simpletransformers.retrieval import RetrievalModel, RetrievalArgs\n"
   ]
  },
  {
   "cell_type": "code",
   "execution_count": 2,
   "id": "a1543864",
   "metadata": {},
   "outputs": [],
   "source": [
    "logging.basicConfig(level=logging.INFO)\n",
    "transformers_logger = logging.getLogger(\"transformers\")\n",
    "transformers_logger.setLevel(logging.WARNING)"
   ]
  },
  {
   "cell_type": "code",
   "execution_count": 3,
   "id": "d4fd2f31",
   "metadata": {},
   "outputs": [],
   "source": [
    "import torch\n",
    "import pandas as pd\n",
    "import numpy as np\n"
   ]
  },
  {
   "cell_type": "code",
   "execution_count": 4,
   "id": "9d6960b2",
   "metadata": {},
   "outputs": [
    {
     "data": {
      "text/plain": [
       "device(type='cuda')"
      ]
     },
     "execution_count": 4,
     "metadata": {},
     "output_type": "execute_result"
    }
   ],
   "source": [
    "device = torch.device('cuda' if torch.cuda.is_available() else 'cpu')\n",
    "device"
   ]
  },
  {
   "cell_type": "code",
   "execution_count": 5,
   "id": "98bc0f49",
   "metadata": {},
   "outputs": [],
   "source": [
    "claim_df = pd.read_parquet('processed_df/claim_df.parquet')\n",
    "wiki_df = pd.read_parquet('processed_df/wiki_df.parquet')"
   ]
  },
  {
   "cell_type": "code",
   "execution_count": 6,
   "id": "4e685ec5",
   "metadata": {},
   "outputs": [
    {
     "name": "stdout",
     "output_type": "stream",
     "text": [
      "115305\n"
     ]
    }
   ],
   "source": [
    "queries = list(set(claim_df['claim']))\n",
    "print(len(queries))"
   ]
  },
  {
   "cell_type": "code",
   "execution_count": 14,
   "id": "f80616ea",
   "metadata": {},
   "outputs": [
    {
     "name": "stdout",
     "output_type": "stream",
     "text": [
      "3715301\n"
     ]
    }
   ],
   "source": [
    "passages = list(set(wiki_df['text']))\n",
    "print(len(passages))"
   ]
  },
  {
   "cell_type": "code",
   "execution_count": 6,
   "id": "05f76b8a",
   "metadata": {
    "scrolled": false
   },
   "outputs": [
    {
     "name": "stderr",
     "output_type": "stream",
     "text": [
      "Some weights of the model checkpoint at facebook/dpr-ctx_encoder-single-nq-base were not used when initializing DPRContextEncoder: ['ctx_encoder.bert_model.pooler.dense.weight', 'ctx_encoder.bert_model.pooler.dense.bias']\n",
      "- This IS expected if you are initializing DPRContextEncoder from the checkpoint of a model trained on another task or with another architecture (e.g. initializing a BertForSequenceClassification model from a BertForPreTraining model).\n",
      "- This IS NOT expected if you are initializing DPRContextEncoder from the checkpoint of a model that you expect to be exactly identical (initializing a BertForSequenceClassification model from a BertForSequenceClassification model).\n",
      "The tokenizer class you load from this checkpoint is not the same type as the class this function is called from. It may result in unexpected tokenization. \n",
      "The tokenizer class you load from this checkpoint is 'DPRQuestionEncoderTokenizer'. \n",
      "The class this function is called from is 'DPRContextEncoderTokenizerFast'.\n",
      "Some weights of the model checkpoint at facebook/dpr-question_encoder-single-nq-base were not used when initializing DPRQuestionEncoder: ['question_encoder.bert_model.pooler.dense.weight', 'question_encoder.bert_model.pooler.dense.bias']\n",
      "- This IS expected if you are initializing DPRQuestionEncoder from the checkpoint of a model trained on another task or with another architecture (e.g. initializing a BertForSequenceClassification model from a BertForPreTraining model).\n",
      "- This IS NOT expected if you are initializing DPRQuestionEncoder from the checkpoint of a model that you expect to be exactly identical (initializing a BertForSequenceClassification model from a BertForSequenceClassification model).\n"
     ]
    }
   ],
   "source": [
    "model_type = \"dpr\"\n",
    "context_name = \"facebook/dpr-ctx_encoder-single-nq-base\"\n",
    "query_name = \"facebook/dpr-question_encoder-single-nq-base\"\n",
    "\n",
    "model_args = RetrievalArgs()\n",
    "\n",
    "# Create a TransformerModel\n",
    "model = RetrievalModel(\n",
    "    model_type=model_type,\n",
    "    context_encoder_name=context_name,\n",
    "    query_encoder_name=query_name,\n",
    "    args=model_args\n",
    ")"
   ]
  },
  {
   "cell_type": "code",
   "execution_count": 5,
   "id": "2d71a2b7",
   "metadata": {},
   "outputs": [],
   "source": [
    "merged_df = pd.read_parquet('processed_df/merged_df.parquet')\n"
   ]
  },
  {
   "cell_type": "code",
   "execution_count": 6,
   "id": "c380fb5d",
   "metadata": {},
   "outputs": [],
   "source": [
    "train_data = merged_df[['claim', 'wiki_text', 'wiki_title']]"
   ]
  },
  {
   "cell_type": "code",
   "execution_count": 7,
   "id": "eb3c6aad",
   "metadata": {},
   "outputs": [
    {
     "data": {
      "text/plain": [
       "102748"
      ]
     },
     "execution_count": 7,
     "metadata": {},
     "output_type": "execute_result"
    }
   ],
   "source": [
    "len(train_data)"
   ]
  },
  {
   "cell_type": "code",
   "execution_count": 8,
   "id": "71660209",
   "metadata": {},
   "outputs": [
    {
     "name": "stderr",
     "output_type": "stream",
     "text": [
      "/tmp/ipykernel_3376046/144983162.py:1: SettingWithCopyWarning: \n",
      "A value is trying to be set on a copy of a slice from a DataFrame\n",
      "\n",
      "See the caveats in the documentation: https://pandas.pydata.org/pandas-docs/stable/user_guide/indexing.html#returning-a-view-versus-a-copy\n",
      "  train_data.rename(columns={'claim': 'query_text', 'wiki_text': 'gold_passage', 'wiki_title': 'title'}, inplace=True)\n"
     ]
    }
   ],
   "source": [
    "train_data.rename(columns={'claim': 'query_text', 'wiki_text': 'gold_passage', 'wiki_title': 'title'}, inplace=True)"
   ]
  },
  {
   "cell_type": "code",
   "execution_count": 9,
   "id": "3bf9ea21",
   "metadata": {},
   "outputs": [
    {
     "data": {
      "text/html": [
       "<div>\n",
       "<style scoped>\n",
       "    .dataframe tbody tr th:only-of-type {\n",
       "        vertical-align: middle;\n",
       "    }\n",
       "\n",
       "    .dataframe tbody tr th {\n",
       "        vertical-align: top;\n",
       "    }\n",
       "\n",
       "    .dataframe thead th {\n",
       "        text-align: right;\n",
       "    }\n",
       "</style>\n",
       "<table border=\"1\" class=\"dataframe\">\n",
       "  <thead>\n",
       "    <tr style=\"text-align: right;\">\n",
       "      <th></th>\n",
       "      <th>query_text</th>\n",
       "      <th>gold_passage</th>\n",
       "      <th>title</th>\n",
       "    </tr>\n",
       "  </thead>\n",
       "  <tbody>\n",
       "    <tr>\n",
       "      <th>0</th>\n",
       "      <td>nikolaj coster waldau worked with the fox broa...</td>\n",
       "      <td>nikolaj coster waldau lrb lsb ne ola k sd ald ...</td>\n",
       "      <td>Nikolaj_Coster-Waldau</td>\n",
       "    </tr>\n",
       "    <tr>\n",
       "      <th>1</th>\n",
       "      <td>nikolaj coster waldau was not in a danish thri...</td>\n",
       "      <td>nikolaj coster waldau lrb lsb ne ola k sd ald ...</td>\n",
       "      <td>Nikolaj_Coster-Waldau</td>\n",
       "    </tr>\n",
       "    <tr>\n",
       "      <th>2</th>\n",
       "      <td>nikolaj coster waldau worked with peter dinklage</td>\n",
       "      <td>nikolaj coster waldau lrb lsb ne ola k sd ald ...</td>\n",
       "      <td>Nikolaj_Coster-Waldau</td>\n",
       "    </tr>\n",
       "    <tr>\n",
       "      <th>3</th>\n",
       "      <td>nikolaj coster waldau refused to ever work wit...</td>\n",
       "      <td>nikolaj coster waldau lrb lsb ne ola k sd ald ...</td>\n",
       "      <td>Nikolaj_Coster-Waldau</td>\n",
       "    </tr>\n",
       "    <tr>\n",
       "      <th>4</th>\n",
       "      <td>nikolaj coster waldau was in a film</td>\n",
       "      <td>nikolaj coster waldau lrb lsb ne ola k sd ald ...</td>\n",
       "      <td>Nikolaj_Coster-Waldau</td>\n",
       "    </tr>\n",
       "  </tbody>\n",
       "</table>\n",
       "</div>"
      ],
      "text/plain": [
       "                                          query_text  \\\n",
       "0  nikolaj coster waldau worked with the fox broa...   \n",
       "1  nikolaj coster waldau was not in a danish thri...   \n",
       "2   nikolaj coster waldau worked with peter dinklage   \n",
       "3  nikolaj coster waldau refused to ever work wit...   \n",
       "4                nikolaj coster waldau was in a film   \n",
       "\n",
       "                                        gold_passage                  title  \n",
       "0  nikolaj coster waldau lrb lsb ne ola k sd ald ...  Nikolaj_Coster-Waldau  \n",
       "1  nikolaj coster waldau lrb lsb ne ola k sd ald ...  Nikolaj_Coster-Waldau  \n",
       "2  nikolaj coster waldau lrb lsb ne ola k sd ald ...  Nikolaj_Coster-Waldau  \n",
       "3  nikolaj coster waldau lrb lsb ne ola k sd ald ...  Nikolaj_Coster-Waldau  \n",
       "4  nikolaj coster waldau lrb lsb ne ola k sd ald ...  Nikolaj_Coster-Waldau  "
      ]
     },
     "execution_count": 9,
     "metadata": {},
     "output_type": "execute_result"
    }
   ],
   "source": [
    "train_data.head()"
   ]
  },
  {
   "cell_type": "code",
   "execution_count": 11,
   "id": "b9d8cf8d",
   "metadata": {},
   "outputs": [
    {
     "data": {
      "text/plain": [
       "102748"
      ]
     },
     "execution_count": 11,
     "metadata": {},
     "output_type": "execute_result"
    }
   ],
   "source": [
    "queries = list(train_data['query_text'].tolist())\n",
    "len(queries)"
   ]
  },
  {
   "cell_type": "code",
   "execution_count": 12,
   "id": "c9ef1edc",
   "metadata": {},
   "outputs": [
    {
     "data": {
      "text/plain": [
       "9528"
      ]
     },
     "execution_count": 12,
     "metadata": {},
     "output_type": "execute_result"
    }
   ],
   "source": [
    "passages = list(set(train_data['gold_passage'].tolist()))\n",
    "len(passages)"
   ]
  },
  {
   "cell_type": "code",
   "execution_count": 17,
   "id": "a3ab135b",
   "metadata": {},
   "outputs": [
    {
     "name": "stderr",
     "output_type": "stream",
     "text": [
      "INFO:simpletransformers.retrieval.retrieval_utils:Preparing prediction passages started\n",
      "INFO:simpletransformers.retrieval.retrieval_utils:Preparing prediction passages completed\n",
      "INFO:simpletransformers.retrieval.retrieval_utils:Generating embeddings for prediction passages started\n"
     ]
    },
    {
     "data": {
      "application/vnd.jupyter.widget-view+json": {
       "model_id": "492e1e92cad94b7cb9365d670dbbd110",
       "version_major": 2,
       "version_minor": 0
      },
      "text/plain": [
       "Map:   0%|          | 0/9528 [00:00<?, ? examples/s]"
      ]
     },
     "metadata": {},
     "output_type": "display_data"
    },
    {
     "name": "stderr",
     "output_type": "stream",
     "text": [
      "INFO:simpletransformers.retrieval.retrieval_utils:Generating embeddings for prediction passages completed\n"
     ]
    },
    {
     "data": {
      "application/vnd.jupyter.widget-view+json": {
       "model_id": "23869d2627ac4ff890628f1e1b1fe9c7",
       "version_major": 2,
       "version_minor": 0
      },
      "text/plain": [
       "Saving the dataset (0/1 shards):   0%|          | 0/9528 [00:00<?, ? examples/s]"
      ]
     },
     "metadata": {},
     "output_type": "display_data"
    },
    {
     "name": "stderr",
     "output_type": "stream",
     "text": [
      "INFO:simpletransformers.retrieval.retrieval_utils:Adding FAISS index to prediction passages\n"
     ]
    },
    {
     "data": {
      "application/vnd.jupyter.widget-view+json": {
       "model_id": "2157d8433b134150aae1514ea76e0ccb",
       "version_major": 2,
       "version_minor": 0
      },
      "text/plain": [
       "  0%|          | 0/10 [00:00<?, ?it/s]"
      ]
     },
     "metadata": {},
     "output_type": "display_data"
    },
    {
     "name": "stderr",
     "output_type": "stream",
     "text": [
      "INFO:simpletransformers.retrieval.retrieval_utils:Adding FAISS index to prediction passages completed\n"
     ]
    },
    {
     "data": {
      "application/vnd.jupyter.widget-view+json": {
       "model_id": "f60be3a5b62048e397dda1ff95bd0a53",
       "version_major": 2,
       "version_minor": 0
      },
      "text/plain": [
       "Generating query embeddings: 0it [00:00, ?it/s]"
      ]
     },
     "metadata": {},
     "output_type": "display_data"
    },
    {
     "data": {
      "application/vnd.jupyter.widget-view+json": {
       "model_id": "a835cc698b7f42a799fd9ab11f0e8e7f",
       "version_major": 2,
       "version_minor": 0
      },
      "text/plain": [
       "Retrieving docs:   0%|          | 0/201 [00:00<?, ?it/s]"
      ]
     },
     "metadata": {},
     "output_type": "display_data"
    }
   ],
   "source": [
    "# The hard negatives will be written to the output dir by default.\n",
    "hard_df = model.build_hard_negatives(\n",
    "    queries=queries,\n",
    "    passage_dataset=passages,\n",
    "    retrieve_n_docs=1,\n",
    "#     output_dir = '/home/rahvk/tmp/cache/hard_neg'\n",
    ")\n"
   ]
  },
  {
   "cell_type": "code",
   "execution_count": 18,
   "id": "b6498d36",
   "metadata": {},
   "outputs": [
    {
     "data": {
      "text/plain": [
       "102748"
      ]
     },
     "execution_count": 18,
     "metadata": {},
     "output_type": "execute_result"
    }
   ],
   "source": [
    "len(hard_df)"
   ]
  },
  {
   "cell_type": "code",
   "execution_count": 10,
   "id": "f56717a1",
   "metadata": {},
   "outputs": [
    {
     "ename": "NameError",
     "evalue": "name 'hard_df' is not defined",
     "output_type": "error",
     "traceback": [
      "\u001b[0;31m---------------------------------------------------------------------------\u001b[0m",
      "\u001b[0;31mNameError\u001b[0m                                 Traceback (most recent call last)",
      "Cell \u001b[0;32mIn[10], line 1\u001b[0m\n\u001b[0;32m----> 1\u001b[0m \u001b[43mhard_df\u001b[49m\u001b[38;5;241m.\u001b[39mto_parquet(\u001b[38;5;124m'\u001b[39m\u001b[38;5;124mprocessed_df/hard_df.parquet\u001b[39m\u001b[38;5;124m'\u001b[39m)\n",
      "\u001b[0;31mNameError\u001b[0m: name 'hard_df' is not defined"
     ]
    }
   ],
   "source": [
    "hard_df.to_parquet('processed_df/hard_df.parquet')"
   ]
  },
  {
   "cell_type": "markdown",
   "id": "eda8700e",
   "metadata": {},
   "source": [
    "## PREPARING DF TO TRAIN ON HARD NEGATIVES"
   ]
  },
  {
   "cell_type": "code",
   "execution_count": 11,
   "id": "3db7d7d0",
   "metadata": {},
   "outputs": [],
   "source": [
    "hard_df = pd.read_parquet('processed_df/hard_df.parquet')\n"
   ]
  },
  {
   "cell_type": "code",
   "execution_count": 12,
   "id": "f1a0cc2a",
   "metadata": {},
   "outputs": [
    {
     "data": {
      "text/plain": [
       "102748"
      ]
     },
     "execution_count": 12,
     "metadata": {},
     "output_type": "execute_result"
    }
   ],
   "source": [
    "len(train_data)"
   ]
  },
  {
   "cell_type": "code",
   "execution_count": 13,
   "id": "d7c9d05e",
   "metadata": {
    "scrolled": true
   },
   "outputs": [
    {
     "name": "stderr",
     "output_type": "stream",
     "text": [
      "/tmp/ipykernel_3353987/947600376.py:1: SettingWithCopyWarning: \n",
      "A value is trying to be set on a copy of a slice from a DataFrame.\n",
      "Try using .loc[row_indexer,col_indexer] = value instead\n",
      "\n",
      "See the caveats in the documentation: https://pandas.pydata.org/pandas-docs/stable/user_guide/indexing.html#returning-a-view-versus-a-copy\n",
      "  train_data['hard_negative'] = hard_df\n"
     ]
    }
   ],
   "source": [
    "train_data['hard_negative'] = hard_df"
   ]
  },
  {
   "cell_type": "code",
   "execution_count": 14,
   "id": "e90bf9a8",
   "metadata": {},
   "outputs": [
    {
     "data": {
      "text/html": [
       "<div>\n",
       "<style scoped>\n",
       "    .dataframe tbody tr th:only-of-type {\n",
       "        vertical-align: middle;\n",
       "    }\n",
       "\n",
       "    .dataframe tbody tr th {\n",
       "        vertical-align: top;\n",
       "    }\n",
       "\n",
       "    .dataframe thead th {\n",
       "        text-align: right;\n",
       "    }\n",
       "</style>\n",
       "<table border=\"1\" class=\"dataframe\">\n",
       "  <thead>\n",
       "    <tr style=\"text-align: right;\">\n",
       "      <th></th>\n",
       "      <th>query_text</th>\n",
       "      <th>gold_passage</th>\n",
       "      <th>title</th>\n",
       "      <th>hard_negative</th>\n",
       "    </tr>\n",
       "  </thead>\n",
       "  <tbody>\n",
       "    <tr>\n",
       "      <th>0</th>\n",
       "      <td>nikolaj coster waldau worked with the fox broa...</td>\n",
       "      <td>nikolaj coster waldau lrb lsb ne ola k sd ald ...</td>\n",
       "      <td>Nikolaj_Coster-Waldau</td>\n",
       "      <td>frederick fred seibert lrb born september 15 1...</td>\n",
       "    </tr>\n",
       "    <tr>\n",
       "      <th>1</th>\n",
       "      <td>nikolaj coster waldau was not in a danish thri...</td>\n",
       "      <td>nikolaj coster waldau lrb lsb ne ola k sd ald ...</td>\n",
       "      <td>Nikolaj_Coster-Waldau</td>\n",
       "      <td>lars von trier lrb lars trier 30 april 1956 rr...</td>\n",
       "    </tr>\n",
       "    <tr>\n",
       "      <th>2</th>\n",
       "      <td>nikolaj coster waldau worked with peter dinklage</td>\n",
       "      <td>nikolaj coster waldau lrb lsb ne ola k sd ald ...</td>\n",
       "      <td>Nikolaj_Coster-Waldau</td>\n",
       "      <td>arthur schopenhauer lrb lsb a t o pm ha rsb 22...</td>\n",
       "    </tr>\n",
       "    <tr>\n",
       "      <th>3</th>\n",
       "      <td>nikolaj coster waldau refused to ever work wit...</td>\n",
       "      <td>nikolaj coster waldau lrb lsb ne ola k sd ald ...</td>\n",
       "      <td>Nikolaj_Coster-Waldau</td>\n",
       "      <td>harry herbert frazee lrb june 29 1880 june 4 1...</td>\n",
       "    </tr>\n",
       "    <tr>\n",
       "      <th>4</th>\n",
       "      <td>nikolaj coster waldau was in a film</td>\n",
       "      <td>nikolaj coster waldau lrb lsb ne ola k sd ald ...</td>\n",
       "      <td>Nikolaj_Coster-Waldau</td>\n",
       "      <td>armin mueller stahl lrb born 17 december 1930 ...</td>\n",
       "    </tr>\n",
       "  </tbody>\n",
       "</table>\n",
       "</div>"
      ],
      "text/plain": [
       "                                          query_text  \\\n",
       "0  nikolaj coster waldau worked with the fox broa...   \n",
       "1  nikolaj coster waldau was not in a danish thri...   \n",
       "2   nikolaj coster waldau worked with peter dinklage   \n",
       "3  nikolaj coster waldau refused to ever work wit...   \n",
       "4                nikolaj coster waldau was in a film   \n",
       "\n",
       "                                        gold_passage                  title  \\\n",
       "0  nikolaj coster waldau lrb lsb ne ola k sd ald ...  Nikolaj_Coster-Waldau   \n",
       "1  nikolaj coster waldau lrb lsb ne ola k sd ald ...  Nikolaj_Coster-Waldau   \n",
       "2  nikolaj coster waldau lrb lsb ne ola k sd ald ...  Nikolaj_Coster-Waldau   \n",
       "3  nikolaj coster waldau lrb lsb ne ola k sd ald ...  Nikolaj_Coster-Waldau   \n",
       "4  nikolaj coster waldau lrb lsb ne ola k sd ald ...  Nikolaj_Coster-Waldau   \n",
       "\n",
       "                                       hard_negative  \n",
       "0  frederick fred seibert lrb born september 15 1...  \n",
       "1  lars von trier lrb lars trier 30 april 1956 rr...  \n",
       "2  arthur schopenhauer lrb lsb a t o pm ha rsb 22...  \n",
       "3  harry herbert frazee lrb june 29 1880 june 4 1...  \n",
       "4  armin mueller stahl lrb born 17 december 1930 ...  "
      ]
     },
     "execution_count": 14,
     "metadata": {},
     "output_type": "execute_result"
    }
   ],
   "source": [
    "train_data.head()"
   ]
  },
  {
   "cell_type": "code",
   "execution_count": 15,
   "id": "389c3538",
   "metadata": {},
   "outputs": [],
   "source": [
    "train_data.to_parquet('processed_df/train_data.parquet')"
   ]
  },
  {
   "cell_type": "code",
   "execution_count": 17,
   "id": "26ee1259",
   "metadata": {},
   "outputs": [],
   "source": [
    "# %pip install simpletransformers"
   ]
  },
  {
   "cell_type": "code",
   "execution_count": 10,
   "id": "7fa36a00",
   "metadata": {},
   "outputs": [],
   "source": [
    "train_data = pd.read_parquet('processed_df/train_data.parquet')\n"
   ]
  },
  {
   "cell_type": "code",
   "execution_count": 11,
   "id": "e02a0cd6",
   "metadata": {},
   "outputs": [
    {
     "data": {
      "text/html": [
       "<div>\n",
       "<style scoped>\n",
       "    .dataframe tbody tr th:only-of-type {\n",
       "        vertical-align: middle;\n",
       "    }\n",
       "\n",
       "    .dataframe tbody tr th {\n",
       "        vertical-align: top;\n",
       "    }\n",
       "\n",
       "    .dataframe thead th {\n",
       "        text-align: right;\n",
       "    }\n",
       "</style>\n",
       "<table border=\"1\" class=\"dataframe\">\n",
       "  <thead>\n",
       "    <tr style=\"text-align: right;\">\n",
       "      <th></th>\n",
       "      <th>query_text</th>\n",
       "      <th>gold_passage</th>\n",
       "      <th>title</th>\n",
       "      <th>hard_negative</th>\n",
       "    </tr>\n",
       "  </thead>\n",
       "  <tbody>\n",
       "    <tr>\n",
       "      <th>0</th>\n",
       "      <td>nikolaj coster waldau worked with the fox broa...</td>\n",
       "      <td>nikolaj coster waldau lrb lsb ne ola k sd ald ...</td>\n",
       "      <td>Nikolaj_Coster-Waldau</td>\n",
       "      <td>frederick fred seibert lrb born september 15 1...</td>\n",
       "    </tr>\n",
       "    <tr>\n",
       "      <th>1</th>\n",
       "      <td>nikolaj coster waldau was not in a danish thri...</td>\n",
       "      <td>nikolaj coster waldau lrb lsb ne ola k sd ald ...</td>\n",
       "      <td>Nikolaj_Coster-Waldau</td>\n",
       "      <td>lars von trier lrb lars trier 30 april 1956 rr...</td>\n",
       "    </tr>\n",
       "    <tr>\n",
       "      <th>2</th>\n",
       "      <td>nikolaj coster waldau worked with peter dinklage</td>\n",
       "      <td>nikolaj coster waldau lrb lsb ne ola k sd ald ...</td>\n",
       "      <td>Nikolaj_Coster-Waldau</td>\n",
       "      <td>arthur schopenhauer lrb lsb a t o pm ha rsb 22...</td>\n",
       "    </tr>\n",
       "    <tr>\n",
       "      <th>3</th>\n",
       "      <td>nikolaj coster waldau refused to ever work wit...</td>\n",
       "      <td>nikolaj coster waldau lrb lsb ne ola k sd ald ...</td>\n",
       "      <td>Nikolaj_Coster-Waldau</td>\n",
       "      <td>harry herbert frazee lrb june 29 1880 june 4 1...</td>\n",
       "    </tr>\n",
       "    <tr>\n",
       "      <th>4</th>\n",
       "      <td>nikolaj coster waldau was in a film</td>\n",
       "      <td>nikolaj coster waldau lrb lsb ne ola k sd ald ...</td>\n",
       "      <td>Nikolaj_Coster-Waldau</td>\n",
       "      <td>armin mueller stahl lrb born 17 december 1930 ...</td>\n",
       "    </tr>\n",
       "  </tbody>\n",
       "</table>\n",
       "</div>"
      ],
      "text/plain": [
       "                                          query_text  \\\n",
       "0  nikolaj coster waldau worked with the fox broa...   \n",
       "1  nikolaj coster waldau was not in a danish thri...   \n",
       "2   nikolaj coster waldau worked with peter dinklage   \n",
       "3  nikolaj coster waldau refused to ever work wit...   \n",
       "4                nikolaj coster waldau was in a film   \n",
       "\n",
       "                                        gold_passage                  title  \\\n",
       "0  nikolaj coster waldau lrb lsb ne ola k sd ald ...  Nikolaj_Coster-Waldau   \n",
       "1  nikolaj coster waldau lrb lsb ne ola k sd ald ...  Nikolaj_Coster-Waldau   \n",
       "2  nikolaj coster waldau lrb lsb ne ola k sd ald ...  Nikolaj_Coster-Waldau   \n",
       "3  nikolaj coster waldau lrb lsb ne ola k sd ald ...  Nikolaj_Coster-Waldau   \n",
       "4  nikolaj coster waldau lrb lsb ne ola k sd ald ...  Nikolaj_Coster-Waldau   \n",
       "\n",
       "                                       hard_negative  \n",
       "0  frederick fred seibert lrb born september 15 1...  \n",
       "1  lars von trier lrb lars trier 30 april 1956 rr...  \n",
       "2  arthur schopenhauer lrb lsb a t o pm ha rsb 22...  \n",
       "3  harry herbert frazee lrb june 29 1880 june 4 1...  \n",
       "4  armin mueller stahl lrb born 17 december 1930 ...  "
      ]
     },
     "execution_count": 11,
     "metadata": {},
     "output_type": "execute_result"
    }
   ],
   "source": [
    "train_data.head()"
   ]
  },
  {
   "cell_type": "code",
   "execution_count": 12,
   "id": "3aed1fbc",
   "metadata": {},
   "outputs": [
    {
     "name": "stderr",
     "output_type": "stream",
     "text": [
      "Some weights of the model checkpoint at facebook/dpr-ctx_encoder-single-nq-base were not used when initializing DPRContextEncoder: ['ctx_encoder.bert_model.pooler.dense.weight', 'ctx_encoder.bert_model.pooler.dense.bias']\n",
      "- This IS expected if you are initializing DPRContextEncoder from the checkpoint of a model trained on another task or with another architecture (e.g. initializing a BertForSequenceClassification model from a BertForPreTraining model).\n",
      "- This IS NOT expected if you are initializing DPRContextEncoder from the checkpoint of a model that you expect to be exactly identical (initializing a BertForSequenceClassification model from a BertForSequenceClassification model).\n",
      "The tokenizer class you load from this checkpoint is not the same type as the class this function is called from. It may result in unexpected tokenization. \n",
      "The tokenizer class you load from this checkpoint is 'DPRQuestionEncoderTokenizer'. \n",
      "The class this function is called from is 'DPRContextEncoderTokenizerFast'.\n",
      "Some weights of the model checkpoint at facebook/dpr-question_encoder-single-nq-base were not used when initializing DPRQuestionEncoder: ['question_encoder.bert_model.pooler.dense.bias', 'question_encoder.bert_model.pooler.dense.weight']\n",
      "- This IS expected if you are initializing DPRQuestionEncoder from the checkpoint of a model trained on another task or with another architecture (e.g. initializing a BertForSequenceClassification model from a BertForPreTraining model).\n",
      "- This IS NOT expected if you are initializing DPRQuestionEncoder from the checkpoint of a model that you expect to be exactly identical (initializing a BertForSequenceClassification model from a BertForSequenceClassification model).\n"
     ]
    }
   ],
   "source": [
    "from simpletransformers.retrieval import RetrievalModel\n",
    "\n",
    "\n",
    "model_type = \"dpr\"\n",
    "context_encoder_name = \"facebook/dpr-ctx_encoder-single-nq-base\"\n",
    "question_encoder_name = \"facebook/dpr-question_encoder-single-nq-base\"\n",
    "\n",
    "model = RetrievalModel(\n",
    "    model_type=model_type,\n",
    "    context_encoder_name=context_encoder_name,\n",
    "    query_encoder_name=question_encoder_name,\n",
    "#     hard_negatives=True,\n",
    "#     include_title=True,\n",
    "#     num_train_epochs=10,\n",
    "#     save_model_every_epoch=True,\n",
    "    args = {\"hard_negatives\":True,\"include_title\":True,\"num_train_epochs\":5, \"save_model_every_epoch\":True, \"save_steps\":-1}\n",
    ")"
   ]
  },
  {
   "cell_type": "code",
   "execution_count": 13,
   "id": "3c62bd46",
   "metadata": {},
   "outputs": [
    {
     "data": {
      "text/plain": [
       "RetrievalArgs(adafactor_beta1=None, adafactor_clip_threshold=1.0, adafactor_decay_rate=-0.8, adafactor_eps=(1e-30, 0.001), adafactor_relative_step=True, adafactor_scale_parameter=True, adafactor_warmup_init=True, adam_betas=(0.9, 0.999), adam_epsilon=1e-08, best_model_dir='outputs/best_model', cache_dir='cache_dir/', config={}, cosine_schedule_num_cycles=0.5, custom_layer_parameters=[], custom_parameter_groups=[], dataloader_num_workers=0, do_lower_case=False, dynamic_quantize=False, early_stopping_consider_epochs=False, early_stopping_delta=0, early_stopping_metric='eval_loss', early_stopping_metric_minimize=True, early_stopping_patience=3, encoding=None, eval_batch_size=8, evaluate_during_training=False, evaluate_during_training_silent=True, evaluate_during_training_steps=2000, evaluate_during_training_verbose=False, evaluate_each_epoch=True, fp16=True, gradient_accumulation_steps=1, learning_rate=4e-05, local_rank=-1, logging_steps=50, loss_type=None, loss_args={}, manual_seed=None, max_grad_norm=1.0, max_seq_length=128, model_name=None, model_type='dpr', multiprocessing_chunksize=-1, n_gpu=1, no_cache=False, no_save=False, not_saved_args=[], num_train_epochs=5, optimizer='AdamW', output_dir='outputs/', overwrite_output_dir=False, polynomial_decay_schedule_lr_end=1e-07, polynomial_decay_schedule_power=1.0, process_count=62, quantized_model=False, reprocess_input_data=True, save_best_model=True, save_eval_checkpoints=True, save_model_every_epoch=True, save_optimizer_and_scheduler=True, save_steps=2000, scheduler='linear_schedule_with_warmup', silent=False, skip_special_tokens=True, tensorboard_dir=None, thread_count=None, tokenizer_name=None, tokenizer_type=None, train_batch_size=8, train_custom_parameters_only=False, use_cached_eval_features=False, use_early_stopping=False, use_hf_datasets=True, use_multiprocessing=True, use_multiprocessing_for_evaluation=True, wandb_kwargs={}, wandb_project=None, warmup_ratio=0.06, warmup_steps=0, weight_decay=0.0, model_class='RetrievalModel', base_marian_model_name=None, dataset_class=None, dataset_cache_dir=None, do_sample=False, early_stopping=True, evaluate_generated_text=False, faiss_d=768, faiss_m=128, include_title_in_knowledge_dataset=True, length_penalty=2.0, max_length=20, max_steps=-1, num_beams=1, num_return_sequences=1, rag_embed_batch_size=16, repetition_penalty=1.0, save_knowledge_dataset=True, save_knowledge_dataset_with_checkpoints=False, split_text_character=' ', split_text_n=100, src_lang='en_XX', tgt_lang='ro_RO', top_k=None, top_p=None, use_multiprocessed_decoding=False, context_config={}, ddp_training=False, embed_batch_size=64, faiss_index_type='IndexFlatIP', hard_negatives=True, include_title=True, query_config={}, remove_duplicates_from_eval_passages=False, retrieval_batch_size=512, retrieve_n_docs=10, save_passage_dataset=True, train_context_encoder=True, train_query_encoder=True)"
      ]
     },
     "execution_count": 13,
     "metadata": {},
     "output_type": "execute_result"
    }
   ],
   "source": [
    "model.args"
   ]
  },
  {
   "cell_type": "code",
   "execution_count": 14,
   "id": "14547243",
   "metadata": {
    "scrolled": true
   },
   "outputs": [
    {
     "data": {
      "application/vnd.jupyter.widget-view+json": {
       "model_id": "46fd055bb596420487f5cc4e5d8a1d78",
       "version_major": 2,
       "version_minor": 0
      },
      "text/plain": [
       "Map:   0%|          | 0/102748 [00:00<?, ? examples/s]"
      ]
     },
     "metadata": {},
     "output_type": "display_data"
    },
    {
     "data": {
      "application/vnd.jupyter.widget-view+json": {
       "model_id": "0761abb4e5e94a2ab04d47a75b188810",
       "version_major": 2,
       "version_minor": 0
      },
      "text/plain": [
       "Map:   0%|          | 0/102748 [00:00<?, ? examples/s]"
      ]
     },
     "metadata": {},
     "output_type": "display_data"
    },
    {
     "name": "stderr",
     "output_type": "stream",
     "text": [
      "INFO:simpletransformers.retrieval.retrieval_model: Training started\n"
     ]
    },
    {
     "data": {
      "application/vnd.jupyter.widget-view+json": {
       "model_id": "c6c0cc2c63184e859604e8e206f8ef98",
       "version_major": 2,
       "version_minor": 0
      },
      "text/plain": [
       "Epoch:   0%|          | 0/5 [00:00<?, ?it/s]"
      ]
     },
     "metadata": {},
     "output_type": "display_data"
    },
    {
     "data": {
      "application/vnd.jupyter.widget-view+json": {
       "model_id": "3073553e998a4870a34dc33ff90076ca",
       "version_major": 2,
       "version_minor": 0
      },
      "text/plain": [
       "Running Epoch 0 of 5:   0%|          | 0/12844 [00:00<?, ?it/s]"
      ]
     },
     "metadata": {},
     "output_type": "display_data"
    },
    {
     "name": "stderr",
     "output_type": "stream",
     "text": [
      "/home/rahvk/data/tmp/anaconda3/envs/faiss_1.7.4/lib/python3.10/site-packages/simpletransformers/retrieval/retrieval_model.py:1659: UserWarning: To copy construct from a tensor, it is recommended to use sourceTensor.clone().detach() or sourceTensor.clone().detach().requires_grad_(True), rather than torch.tensor(sourceTensor).\n",
      "  (max_idxs == torch.tensor(labels)).sum().cpu().detach().numpy().item()\n",
      "/home/rahvk/data/tmp/anaconda3/envs/faiss_1.7.4/lib/python3.10/site-packages/torch/optim/lr_scheduler.py:131: UserWarning: Detected call of `lr_scheduler.step()` before `optimizer.step()`. In PyTorch 1.1.0 and later, you should call them in the opposite order: `optimizer.step()` before `lr_scheduler.step()`.  Failure to do this will result in PyTorch skipping the first value of the learning rate schedule. See more details at https://pytorch.org/docs/stable/optim.html#how-to-adjust-learning-rate\n",
      "  warnings.warn(\"Detected call of `lr_scheduler.step()` before `optimizer.step()`. \"\n",
      "INFO:simpletransformers.retrieval.retrieval_model:Saving model into /home/rahvk/data/tmp/cache/model-hn-5/checkpoint-2000\n",
      "INFO:simpletransformers.retrieval.retrieval_model:Saving model into /home/rahvk/data/tmp/cache/model-hn-5/checkpoint-4000\n",
      "INFO:simpletransformers.retrieval.retrieval_model:Saving model into /home/rahvk/data/tmp/cache/model-hn-5/checkpoint-6000\n",
      "INFO:simpletransformers.retrieval.retrieval_model:Saving model into /home/rahvk/data/tmp/cache/model-hn-5/checkpoint-8000\n",
      "INFO:simpletransformers.retrieval.retrieval_model:Saving model into /home/rahvk/data/tmp/cache/model-hn-5/checkpoint-10000\n",
      "INFO:simpletransformers.retrieval.retrieval_model:Saving model into /home/rahvk/data/tmp/cache/model-hn-5/checkpoint-12000\n",
      "INFO:simpletransformers.retrieval.retrieval_model:Saving model into /home/rahvk/data/tmp/cache/model-hn-5/checkpoint-12844-epoch-1\n"
     ]
    },
    {
     "data": {
      "application/vnd.jupyter.widget-view+json": {
       "model_id": "32c3801200c2462ea3d430a691458eb1",
       "version_major": 2,
       "version_minor": 0
      },
      "text/plain": [
       "Running Epoch 1 of 5:   0%|          | 0/12844 [00:00<?, ?it/s]"
      ]
     },
     "metadata": {},
     "output_type": "display_data"
    },
    {
     "name": "stderr",
     "output_type": "stream",
     "text": [
      "INFO:simpletransformers.retrieval.retrieval_model:Saving model into /home/rahvk/data/tmp/cache/model-hn-5/checkpoint-14000\n",
      "INFO:simpletransformers.retrieval.retrieval_model:Saving model into /home/rahvk/data/tmp/cache/model-hn-5/checkpoint-16000\n",
      "INFO:simpletransformers.retrieval.retrieval_model:Saving model into /home/rahvk/data/tmp/cache/model-hn-5/checkpoint-18000\n",
      "INFO:simpletransformers.retrieval.retrieval_model:Saving model into /home/rahvk/data/tmp/cache/model-hn-5/checkpoint-20000\n",
      "INFO:simpletransformers.retrieval.retrieval_model:Saving model into /home/rahvk/data/tmp/cache/model-hn-5/checkpoint-22000\n",
      "INFO:simpletransformers.retrieval.retrieval_model:Saving model into /home/rahvk/data/tmp/cache/model-hn-5/checkpoint-24000\n",
      "INFO:simpletransformers.retrieval.retrieval_model:Saving model into /home/rahvk/data/tmp/cache/model-hn-5/checkpoint-25688-epoch-2\n"
     ]
    },
    {
     "data": {
      "application/vnd.jupyter.widget-view+json": {
       "model_id": "c978e6845d344c2588c284d912e6c82f",
       "version_major": 2,
       "version_minor": 0
      },
      "text/plain": [
       "Running Epoch 2 of 5:   0%|          | 0/12844 [00:00<?, ?it/s]"
      ]
     },
     "metadata": {},
     "output_type": "display_data"
    },
    {
     "name": "stderr",
     "output_type": "stream",
     "text": [
      "INFO:simpletransformers.retrieval.retrieval_model:Saving model into /home/rahvk/data/tmp/cache/model-hn-5/checkpoint-26000\n",
      "INFO:simpletransformers.retrieval.retrieval_model:Saving model into /home/rahvk/data/tmp/cache/model-hn-5/checkpoint-28000\n",
      "INFO:simpletransformers.retrieval.retrieval_model:Saving model into /home/rahvk/data/tmp/cache/model-hn-5/checkpoint-30000\n",
      "INFO:simpletransformers.retrieval.retrieval_model:Saving model into /home/rahvk/data/tmp/cache/model-hn-5/checkpoint-32000\n",
      "INFO:simpletransformers.retrieval.retrieval_model:Saving model into /home/rahvk/data/tmp/cache/model-hn-5/checkpoint-34000\n",
      "INFO:simpletransformers.retrieval.retrieval_model:Saving model into /home/rahvk/data/tmp/cache/model-hn-5/checkpoint-36000\n",
      "INFO:simpletransformers.retrieval.retrieval_model:Saving model into /home/rahvk/data/tmp/cache/model-hn-5/checkpoint-38000\n",
      "INFO:simpletransformers.retrieval.retrieval_model:Saving model into /home/rahvk/data/tmp/cache/model-hn-5/checkpoint-38532-epoch-3\n"
     ]
    },
    {
     "data": {
      "application/vnd.jupyter.widget-view+json": {
       "model_id": "24b4296abc034a068c10bb6e9b3ce563",
       "version_major": 2,
       "version_minor": 0
      },
      "text/plain": [
       "Running Epoch 3 of 5:   0%|          | 0/12844 [00:00<?, ?it/s]"
      ]
     },
     "metadata": {},
     "output_type": "display_data"
    },
    {
     "name": "stderr",
     "output_type": "stream",
     "text": [
      "INFO:simpletransformers.retrieval.retrieval_model:Saving model into /home/rahvk/data/tmp/cache/model-hn-5/checkpoint-40000\n",
      "INFO:simpletransformers.retrieval.retrieval_model:Saving model into /home/rahvk/data/tmp/cache/model-hn-5/checkpoint-42000\n",
      "INFO:simpletransformers.retrieval.retrieval_model:Saving model into /home/rahvk/data/tmp/cache/model-hn-5/checkpoint-44000\n",
      "INFO:simpletransformers.retrieval.retrieval_model:Saving model into /home/rahvk/data/tmp/cache/model-hn-5/checkpoint-46000\n",
      "INFO:simpletransformers.retrieval.retrieval_model:Saving model into /home/rahvk/data/tmp/cache/model-hn-5/checkpoint-48000\n",
      "INFO:simpletransformers.retrieval.retrieval_model:Saving model into /home/rahvk/data/tmp/cache/model-hn-5/checkpoint-50000\n",
      "INFO:simpletransformers.retrieval.retrieval_model:Saving model into /home/rahvk/data/tmp/cache/model-hn-5/checkpoint-51376-epoch-4\n"
     ]
    },
    {
     "data": {
      "application/vnd.jupyter.widget-view+json": {
       "model_id": "5692d926cb584025b7c61b0628f7888e",
       "version_major": 2,
       "version_minor": 0
      },
      "text/plain": [
       "Running Epoch 4 of 5:   0%|          | 0/12844 [00:00<?, ?it/s]"
      ]
     },
     "metadata": {},
     "output_type": "display_data"
    },
    {
     "name": "stderr",
     "output_type": "stream",
     "text": [
      "INFO:simpletransformers.retrieval.retrieval_model:Saving model into /home/rahvk/data/tmp/cache/model-hn-5/checkpoint-52000\n",
      "INFO:simpletransformers.retrieval.retrieval_model:Saving model into /home/rahvk/data/tmp/cache/model-hn-5/checkpoint-54000\n",
      "INFO:simpletransformers.retrieval.retrieval_model:Saving model into /home/rahvk/data/tmp/cache/model-hn-5/checkpoint-56000\n",
      "INFO:simpletransformers.retrieval.retrieval_model:Saving model into /home/rahvk/data/tmp/cache/model-hn-5/checkpoint-58000\n",
      "INFO:simpletransformers.retrieval.retrieval_model:Saving model into /home/rahvk/data/tmp/cache/model-hn-5/checkpoint-60000\n",
      "INFO:simpletransformers.retrieval.retrieval_model:Saving model into /home/rahvk/data/tmp/cache/model-hn-5/checkpoint-62000\n",
      "INFO:simpletransformers.retrieval.retrieval_model:Saving model into /home/rahvk/data/tmp/cache/model-hn-5/checkpoint-64000\n",
      "INFO:simpletransformers.retrieval.retrieval_model:Saving model into /home/rahvk/data/tmp/cache/model-hn-5/checkpoint-64220-epoch-5\n",
      "INFO:simpletransformers.retrieval.retrieval_model:Saving model into outputs/\n",
      "INFO:simpletransformers.retrieval.retrieval_model: Training of None model complete. Saved to /home/rahvk/data/tmp/cache/model-hn-5.\n"
     ]
    }
   ],
   "source": [
    "hist=model.train_model(train_data, output_dir='/home/rahvk/data/tmp/cache/model-hn-5', show_running_loss=True, use_cuda=True)\n",
    "# hist"
   ]
  },
  {
   "cell_type": "code",
   "execution_count": 15,
   "id": "0104265a",
   "metadata": {},
   "outputs": [],
   "source": [
    "global_step, training_loss = hist"
   ]
  },
  {
   "cell_type": "code",
   "execution_count": 16,
   "id": "a67c3065",
   "metadata": {},
   "outputs": [
    {
     "name": "stdout",
     "output_type": "stream",
     "text": [
      "0.1602270204794271\n"
     ]
    }
   ],
   "source": [
    "print(training_loss)"
   ]
  },
  {
   "cell_type": "markdown",
   "id": "9081107c",
   "metadata": {},
   "source": [
    "## LOADING PRETRAINED MODEL"
   ]
  },
  {
   "cell_type": "code",
   "execution_count": 20,
   "id": "68aec0dd",
   "metadata": {},
   "outputs": [],
   "source": [
    "from simpletransformers.retrieval import RetrievalModel\n",
    "\n",
    "\n",
    "model_type = \"dpr\"\n",
    "model_name = \"/home/rahvk/data/tmp/cache/model-hn-5/checkpoint-12844-epoch-1\"\n",
    "\n",
    "# Initialize a RetrievalModel\n",
    "model = RetrievalModel(\n",
    "    model_type=model_type,\n",
    "    model_name=model_name,\n",
    ")"
   ]
  },
  {
   "cell_type": "markdown",
   "id": "90bf526a",
   "metadata": {},
   "source": [
    "## EVALUATE THE MODEL"
   ]
  },
  {
   "cell_type": "code",
   "execution_count": null,
   "id": "3453860f",
   "metadata": {},
   "outputs": [
    {
     "name": "stderr",
     "output_type": "stream",
     "text": [
      "INFO:simpletransformers.retrieval.retrieval_utils:Loading evaluation passages to a Huggingface Dataset\n"
     ]
    },
    {
     "data": {
      "application/vnd.jupyter.widget-view+json": {
       "model_id": "ed621731a31640a7a086a47705e29a20",
       "version_major": 2,
       "version_minor": 0
      },
      "text/plain": [
       "Map:   0%|          | 0/102748 [00:00<?, ? examples/s]"
      ]
     },
     "metadata": {},
     "output_type": "display_data"
    },
    {
     "data": {
      "application/vnd.jupyter.widget-view+json": {
       "model_id": "e954f516ae22457ea73e58d12c6785d4",
       "version_major": 2,
       "version_minor": 0
      },
      "text/plain": [
       "Map:   0%|          | 0/102748 [00:00<?, ? examples/s]"
      ]
     },
     "metadata": {},
     "output_type": "display_data"
    },
    {
     "name": "stderr",
     "output_type": "stream",
     "text": [
      "INFO:simpletransformers.retrieval.retrieval_utils:Loading evaluation passages to a Huggingface Dataset completed.\n",
      "INFO:simpletransformers.retrieval.retrieval_utils:Generating embeddings for evaluation passages\n"
     ]
    },
    {
     "data": {
      "application/vnd.jupyter.widget-view+json": {
       "model_id": "4fae6a318f2d40d8912a69d236794db7",
       "version_major": 2,
       "version_minor": 0
      },
      "text/plain": [
       "Map:   0%|          | 0/102748 [00:00<?, ? examples/s]"
      ]
     },
     "metadata": {},
     "output_type": "display_data"
    },
    {
     "name": "stderr",
     "output_type": "stream",
     "text": [
      "INFO:simpletransformers.retrieval.retrieval_utils:Generating embeddings for evaluation passages completed.\n"
     ]
    },
    {
     "data": {
      "application/vnd.jupyter.widget-view+json": {
       "model_id": "8aaacb5cb8a14c3bb35adbeea9665f0b",
       "version_major": 2,
       "version_minor": 0
      },
      "text/plain": [
       "Saving the dataset (0/1 shards):   0%|          | 0/102748 [00:00<?, ? examples/s]"
      ]
     },
     "metadata": {},
     "output_type": "display_data"
    },
    {
     "name": "stderr",
     "output_type": "stream",
     "text": [
      "INFO:simpletransformers.retrieval.retrieval_utils:Adding FAISS index to evaluation passages\n"
     ]
    },
    {
     "data": {
      "application/vnd.jupyter.widget-view+json": {
       "model_id": "c5c18dc34f8c4913836cc9d12a563cf4",
       "version_major": 2,
       "version_minor": 0
      },
      "text/plain": [
       "  0%|          | 0/103 [00:00<?, ?it/s]"
      ]
     },
     "metadata": {},
     "output_type": "display_data"
    },
    {
     "name": "stderr",
     "output_type": "stream",
     "text": [
      "INFO:simpletransformers.retrieval.retrieval_utils:Adding FAISS index to evaluation passages completed.\n"
     ]
    },
    {
     "data": {
      "application/vnd.jupyter.widget-view+json": {
       "model_id": "7d2b4ef57f5144b4b7d461a214645063",
       "version_major": 2,
       "version_minor": 0
      },
      "text/plain": [
       "Map:   0%|          | 0/102748 [00:00<?, ? examples/s]"
      ]
     },
     "metadata": {},
     "output_type": "display_data"
    },
    {
     "data": {
      "application/vnd.jupyter.widget-view+json": {
       "model_id": "e377a5d2b9ab4c3793622ba5723ee6f9",
       "version_major": 2,
       "version_minor": 0
      },
      "text/plain": [
       "Map:   0%|          | 0/102748 [00:00<?, ? examples/s]"
      ]
     },
     "metadata": {},
     "output_type": "display_data"
    },
    {
     "data": {
      "application/vnd.jupyter.widget-view+json": {
       "model_id": "dad3635b82b24bfcb7410dd51756a710",
       "version_major": 2,
       "version_minor": 0
      },
      "text/plain": [
       "Running Evaluation:   0%|          | 0/12844 [00:00<?, ?it/s]"
      ]
     },
     "metadata": {},
     "output_type": "display_data"
    },
    {
     "data": {
      "application/vnd.jupyter.widget-view+json": {
       "model_id": "5198196ea6b94fc2908f361cc55de2f5",
       "version_major": 2,
       "version_minor": 0
      },
      "text/plain": [
       "Retrieving docs:   0%|          | 0/201 [00:00<?, ?it/s]"
      ]
     },
     "metadata": {},
     "output_type": "display_data"
    }
   ],
   "source": [
    "result = model.eval_model(train_data)\n",
    "# result"
   ]
  },
  {
   "cell_type": "code",
   "execution_count": null,
   "id": "ef5f4f34",
   "metadata": {},
   "outputs": [],
   "source": [
    "res, doc_ids, doc_vectors, doc_dicts = result"
   ]
  },
  {
   "cell_type": "code",
   "execution_count": null,
   "id": "5bc31cbc",
   "metadata": {},
   "outputs": [],
   "source": [
    "res"
   ]
  },
  {
   "cell_type": "code",
   "execution_count": 26,
   "id": "973c2d5c",
   "metadata": {},
   "outputs": [
    {
     "data": {
      "text/plain": [
       "(102748, 10)"
      ]
     },
     "execution_count": 26,
     "metadata": {},
     "output_type": "execute_result"
    }
   ],
   "source": [
    "doc_ids.shape"
   ]
  },
  {
   "cell_type": "code",
   "execution_count": 27,
   "id": "bd2c8cd1",
   "metadata": {},
   "outputs": [
    {
     "data": {
      "text/plain": [
       "array([3440., 3441., 3442., 3443., 3444., 3445., 3446., 3447., 3448.,\n",
       "       3449.])"
      ]
     },
     "execution_count": 27,
     "metadata": {},
     "output_type": "execute_result"
    }
   ],
   "source": [
    "doc_ids[0]"
   ]
  },
  {
   "cell_type": "markdown",
   "id": "3d087d6e",
   "metadata": {},
   "source": [
    "## MAKING PREDICTIONS"
   ]
  },
  {
   "cell_type": "code",
   "execution_count": 29,
   "id": "eeba24e7",
   "metadata": {},
   "outputs": [
    {
     "name": "stderr",
     "output_type": "stream",
     "text": [
      "INFO:simpletransformers.retrieval.retrieval_utils:Preparing prediction passages started\n",
      "INFO:simpletransformers.retrieval.retrieval_utils:Preparing prediction passages completed\n",
      "INFO:simpletransformers.retrieval.retrieval_utils:Generating embeddings for prediction passages started\n"
     ]
    },
    {
     "data": {
      "application/vnd.jupyter.widget-view+json": {
       "model_id": "4a60d406742b49e1a97b22936973c3d0",
       "version_major": 2,
       "version_minor": 0
      },
      "text/plain": [
       "Map:   0%|          | 0/9528 [00:00<?, ? examples/s]"
      ]
     },
     "metadata": {},
     "output_type": "display_data"
    },
    {
     "name": "stderr",
     "output_type": "stream",
     "text": [
      "INFO:simpletransformers.retrieval.retrieval_utils:Generating embeddings for prediction passages completed\n"
     ]
    },
    {
     "data": {
      "application/vnd.jupyter.widget-view+json": {
       "model_id": "6e2ec479975d47c1b5f92e5daa11615e",
       "version_major": 2,
       "version_minor": 0
      },
      "text/plain": [
       "Saving the dataset (0/1 shards):   0%|          | 0/9528 [00:00<?, ? examples/s]"
      ]
     },
     "metadata": {},
     "output_type": "display_data"
    },
    {
     "name": "stderr",
     "output_type": "stream",
     "text": [
      "INFO:simpletransformers.retrieval.retrieval_utils:Adding FAISS index to prediction passages\n"
     ]
    },
    {
     "data": {
      "application/vnd.jupyter.widget-view+json": {
       "model_id": "ad5c241b916749979aab36477d1ba7b2",
       "version_major": 2,
       "version_minor": 0
      },
      "text/plain": [
       "  0%|          | 0/10 [00:00<?, ?it/s]"
      ]
     },
     "metadata": {},
     "output_type": "display_data"
    },
    {
     "name": "stderr",
     "output_type": "stream",
     "text": [
      "INFO:simpletransformers.retrieval.retrieval_utils:Adding FAISS index to prediction passages completed\n"
     ]
    },
    {
     "data": {
      "application/vnd.jupyter.widget-view+json": {
       "model_id": "236ef6daf925467d999686f4225976f8",
       "version_major": 2,
       "version_minor": 0
      },
      "text/plain": [
       "Generating query embeddings: 0it [00:00, ?it/s]"
      ]
     },
     "metadata": {},
     "output_type": "display_data"
    },
    {
     "data": {
      "application/vnd.jupyter.widget-view+json": {
       "model_id": "1bbbfacff4044a0784daa09d10c9c003",
       "version_major": 2,
       "version_minor": 0
      },
      "text/plain": [
       "Retrieving docs:   0%|          | 0/1 [00:00<?, ?it/s]"
      ]
     },
     "metadata": {},
     "output_type": "display_data"
    }
   ],
   "source": [
    "to_predict = queries[:5]\n",
    "\n",
    "predicted_passages, doc_ids, doc_vectors, doc_dicts = model.predict(to_predict, prediction_passages=passages)"
   ]
  },
  {
   "cell_type": "code",
   "execution_count": 31,
   "id": "b0ea45b8",
   "metadata": {},
   "outputs": [
    {
     "data": {
      "text/plain": [
       "['nikolaj coster waldau worked with the fox broadcasting company',\n",
       " 'nikolaj coster waldau was not in a danish thriller film',\n",
       " 'nikolaj coster waldau worked with peter dinklage',\n",
       " 'nikolaj coster waldau refused to ever work with the fox broadcasting company',\n",
       " 'nikolaj coster waldau was in a film']"
      ]
     },
     "execution_count": 31,
     "metadata": {},
     "output_type": "execute_result"
    }
   ],
   "source": [
    "to_predict"
   ]
  },
  {
   "cell_type": "code",
   "execution_count": 33,
   "id": "a3f200b0",
   "metadata": {},
   "outputs": [
    {
     "data": {
      "text/plain": [
       "5"
      ]
     },
     "execution_count": 33,
     "metadata": {},
     "output_type": "execute_result"
    }
   ],
   "source": [
    "len(predicted_passages)"
   ]
  },
  {
   "cell_type": "code",
   "execution_count": null,
   "id": "5d175c9f",
   "metadata": {},
   "outputs": [],
   "source": [
    "predicted_passages"
   ]
  }
 ],
 "metadata": {
  "kernelspec": {
   "display_name": "Python faiss_1.7.4",
   "language": "python",
   "name": "faiss_1.7.4"
  },
  "language_info": {
   "codemirror_mode": {
    "name": "ipython",
    "version": 3
   },
   "file_extension": ".py",
   "mimetype": "text/x-python",
   "name": "python",
   "nbconvert_exporter": "python",
   "pygments_lexer": "ipython3",
   "version": "3.10.13"
  }
 },
 "nbformat": 4,
 "nbformat_minor": 5
}
