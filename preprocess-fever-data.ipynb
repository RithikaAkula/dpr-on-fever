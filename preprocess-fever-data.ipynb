{
 "cells": [
  {
   "cell_type": "code",
   "execution_count": null,
   "metadata": {},
   "outputs": [],
   "source": [
    "! pip install simpletransformers\n",
    "! pip install tensorboardX\n",
    "! pip install Unidecode\n",
    "! pip install nltk"
   ]
  },
  {
   "cell_type": "code",
   "execution_count": null,
   "metadata": {},
   "outputs": [],
   "source": [
    "# import nltk\n",
    "# nltk.download(\"stopwords\")\n"
   ]
  },
  {
   "cell_type": "code",
   "execution_count": 1,
   "metadata": {},
   "outputs": [
    {
     "data": {
      "text/plain": [
       "True"
      ]
     },
     "execution_count": 1,
     "metadata": {},
     "output_type": "execute_result"
    }
   ],
   "source": [
    "import torch\n",
    "torch.cuda.is_available()"
   ]
  },
  {
   "cell_type": "code",
   "execution_count": 2,
   "metadata": {},
   "outputs": [],
   "source": [
    "\n",
    "from transformers import DPRContextEncoder, DPRContextEncoderTokenizer, DPRQuestionEncoder, DPRQuestionEncoderTokenizer\n",
    "import torch\n",
    "import numpy as np\n",
    "import pandas as pd\n",
    "from datasets import load_dataset\n"
   ]
  },
  {
   "cell_type": "code",
   "execution_count": 3,
   "metadata": {},
   "outputs": [],
   "source": [
    "import cudf"
   ]
  },
  {
   "cell_type": "code",
   "execution_count": 4,
   "metadata": {},
   "outputs": [
    {
     "data": {
      "text/plain": [
       "device(type='cuda')"
      ]
     },
     "execution_count": 4,
     "metadata": {},
     "output_type": "execute_result"
    }
   ],
   "source": [
    "device = torch.device('cuda' if torch.cuda.is_available() else 'cpu')\n",
    "device"
   ]
  },
  {
   "cell_type": "code",
   "execution_count": 5,
   "metadata": {},
   "outputs": [],
   "source": [
    "def get_wiki_paraquet_files():\n",
    "    \n",
    "    ids = [str(i) for i in range(10)]\n",
    "    base_url = \"https://huggingface.co/api/datasets/fever/parquet/wiki_pages/wikipedia_pages/\"\n",
    "    \n",
    "    for index in ids:\n",
    "        data_files = {\"wikipedia_pages\": base_url + f\"{index}.parquet\"}\n",
    "        wiki = load_dataset(\"parquet\", data_files=data_files, split=\"wikipedia_pages\", cache_dir='/home/rahvk/data/tmp/cache')\n",
    "        \n",
    "        wiki.to_csv(f\"wiki_pages_parquets/{index}_parquet_wiki.csv\")\n",
    "        \n",
    "        del wiki\n",
    "        \n",
    "        print(f\"completed downloading {index}\")"
   ]
  },
  {
   "cell_type": "code",
   "execution_count": null,
   "metadata": {},
   "outputs": [],
   "source": [
    "# get_wiki_paraquet_files()"
   ]
  },
  {
   "cell_type": "code",
   "execution_count": 6,
   "metadata": {},
   "outputs": [],
   "source": [
    "import re\n",
    "from nltk.corpus import stopwords\n",
    "from unidecode import unidecode\n",
    "\n",
    "# Clean text\n",
    "def remove_non_ascii(text):\n",
    "    return re.sub(r'[^\\x00-\\x7F]', ' ', text)\n",
    "\n",
    "\n",
    "def remove_punctuation(text):\n",
    "    return re.sub(r'[^\\w]', ' ', text)\n",
    "\n",
    "def remove_digits(text):\n",
    "    return re.sub(r'[\\d]', '', text)\n",
    "\n",
    "\n",
    "def to_lowercase(text):\n",
    "    return text.lower()\n",
    "\n",
    "\n",
    "def remove_extra_space(text):\n",
    "    return re.sub(' +', ' ', text)\n",
    "\n",
    "\n",
    "def remove_url(text):\n",
    "    return re.sub(r'http\\S+', ' ', text)\n",
    "\n",
    "\n",
    "def remove_underline(text):\n",
    "    return text.replace('_', ' ')\n",
    "\n",
    "\n",
    "def remove_hyphen(text):\n",
    "    return text.replace('-', ' ')\n",
    "\n",
    "\n",
    "def remove_leading_whitespace(text):\n",
    "    return text.lstrip()\n",
    "\n",
    "def remove_stopwords(text):\n",
    "    stop_words = set(stopwords.words('english'))\n",
    "    return ' '.join([word for word in text.split() if word not in stop_words])\n",
    "\n",
    "def clean_text(df: pd.DataFrame, column: str):\n",
    "    \n",
    "    df[column] = df[column].apply(remove_non_ascii)\n",
    "    df[column] = df[column].apply(unidecode)\n",
    "    df[column] = df[column].apply(str.lower)\n",
    "    df[column] = df[column].apply(remove_punctuation)\n",
    "    df[column] = df[column].apply(remove_underline)\n",
    "    df[column] = df[column].apply(remove_hyphen)\n",
    "    df[column] = df[column].apply(remove_extra_space)\n",
    "    df[column] = df[column].apply(str.strip)\n",
    "    # df[column] = df[column].apply(remove_stopwords)\n",
    "    return df # [column].tolist()"
   ]
  },
  {
   "cell_type": "code",
   "execution_count": 7,
   "metadata": {},
   "outputs": [],
   "source": [
    "\n",
    "def process_single_file(file_index, uid_start):\n",
    "    print(f\"Started processing file - {file_index}\")\n",
    "    wiki_csv = pd.read_csv(f\"wiki_pages_parquets/{file_index}_parquet_wiki.csv\")\n",
    "\n",
    "    # Remove \"lines\" column\n",
    "    df_v0 = wiki_csv.drop(columns=['lines'])\n",
    "    del wiki_csv\n",
    "    # Remove NaN rows\n",
    "    df_v0 = df_v0.dropna()\n",
    "\n",
    "    # Clean Text\n",
    "    df_v1 = clean_text(df=df_v0, column='text')\n",
    "    del df_v0\n",
    "    # Drop rows where `id` is NaN (or empty)\n",
    "    df_v1['id'].replace('', np.nan, inplace=True)\n",
    "    df_v2 = df_v1[df_v1['id'].notna()]\n",
    "    df_v2.rename(columns={'id': 'title'}, inplace=True)\n",
    "\n",
    "    del df_v1\n",
    "\n",
    "    # Adjust index to create a unique identifier\n",
    "    df_v2.reset_index(drop=True, inplace=True)\n",
    "    df_v2.index += uid_start\n",
    "\n",
    "    # Convert to cudf\n",
    "    df_v2_gpu = cudf.DataFrame.from_pandas(df_v2)\n",
    "\n",
    "    # Return processed DataFrame and last UID\n",
    "    return df_v2_gpu, df_v2.index[-1] + 1\n"
   ]
  },
  {
   "cell_type": "code",
   "execution_count": 8,
   "metadata": {},
   "outputs": [],
   "source": [
    "def process_parquet_files():\n",
    "    ids = [str(i) for i in range(10)]  # Assuming 10 files\n",
    "    uid_start = 0\n",
    "    batch_size = 2  # Define your batch size based on memory constraints\n",
    "    all_batches = []\n",
    "\n",
    "    for i in range(0, len(ids), batch_size):\n",
    "        current_batch = cudf.DataFrame()\n",
    "\n",
    "        for index in ids[i:i + batch_size]:\n",
    "            df_processed, uid_start = process_single_file(index, uid_start)\n",
    "            current_batch = cudf.concat([current_batch, df_processed], axis=0)\n",
    "            del df_processed\n",
    "            torch.cuda.empty_cache()\n",
    "\n",
    "        all_batches.append(current_batch)\n",
    "        del current_batch\n",
    "    \n",
    "    print(\"Concatenating\")\n",
    "    # Concatenate all batches\n",
    "    final_df = cudf.concat(all_batches, axis=0)\n",
    "    del all_batches\n",
    "\n",
    "    print(\"Processing complete\")\n",
    "    return final_df\n"
   ]
  },
  {
   "cell_type": "code",
   "execution_count": 9,
   "metadata": {},
   "outputs": [
    {
     "name": "stdout",
     "output_type": "stream",
     "text": [
      "Started processing file - 0\n",
      "Started processing file - 1\n",
      "Started processing file - 2\n",
      "Started processing file - 3\n",
      "Started processing file - 4\n",
      "Started processing file - 5\n",
      "Started processing file - 6\n",
      "Started processing file - 7\n",
      "Started processing file - 8\n",
      "Started processing file - 9\n",
      "Concatenating\n",
      "Processing complete\n"
     ]
    }
   ],
   "source": [
    "wiki_df = process_parquet_files()\n"
   ]
  },
  {
   "cell_type": "code",
   "execution_count": 10,
   "metadata": {},
   "outputs": [
    {
     "data": {
      "text/plain": [
       "3723220"
      ]
     },
     "execution_count": 10,
     "metadata": {},
     "output_type": "execute_result"
    }
   ],
   "source": [
    "len(wiki_df)"
   ]
  },
  {
   "cell_type": "code",
   "execution_count": 11,
   "metadata": {},
   "outputs": [],
   "source": [
    "# Reset the index to make 'id' a column\n",
    "wiki_df.reset_index(inplace=True)\n",
    "wiki_df.rename(columns={'level_0': 'uid'}, inplace=True)\n",
    "wiki_df = wiki_df.to_pandas()"
   ]
  },
  {
   "cell_type": "code",
   "execution_count": 12,
   "metadata": {
    "scrolled": true
   },
   "outputs": [
    {
     "data": {
      "text/html": [
       "<div>\n",
       "<style scoped>\n",
       "    .dataframe tbody tr th:only-of-type {\n",
       "        vertical-align: middle;\n",
       "    }\n",
       "\n",
       "    .dataframe tbody tr th {\n",
       "        vertical-align: top;\n",
       "    }\n",
       "\n",
       "    .dataframe thead th {\n",
       "        text-align: right;\n",
       "    }\n",
       "</style>\n",
       "<table border=\"1\" class=\"dataframe\">\n",
       "  <thead>\n",
       "    <tr style=\"text-align: right;\">\n",
       "      <th></th>\n",
       "      <th>index</th>\n",
       "      <th>title</th>\n",
       "      <th>text</th>\n",
       "    </tr>\n",
       "  </thead>\n",
       "  <tbody>\n",
       "    <tr>\n",
       "      <th>0</th>\n",
       "      <td>0</td>\n",
       "      <td>1928_in_association_football</td>\n",
       "      <td>the following are the football lrb soccer rrb ...</td>\n",
       "    </tr>\n",
       "    <tr>\n",
       "      <th>1</th>\n",
       "      <td>1</td>\n",
       "      <td>1986_NBA_Finals</td>\n",
       "      <td>the 1986 nba finals was the championship round...</td>\n",
       "    </tr>\n",
       "    <tr>\n",
       "      <th>2</th>\n",
       "      <td>2</td>\n",
       "      <td>1901_Villanova_Wildcats_football_team</td>\n",
       "      <td>the 1901 villanova wildcats football team repr...</td>\n",
       "    </tr>\n",
       "    <tr>\n",
       "      <th>3</th>\n",
       "      <td>3</td>\n",
       "      <td>1992_Northwestern_Wildcats_football_team</td>\n",
       "      <td>the 1992 northwestern wildcats team represente...</td>\n",
       "    </tr>\n",
       "    <tr>\n",
       "      <th>4</th>\n",
       "      <td>4</td>\n",
       "      <td>1897_Princeton_Tigers_football_team</td>\n",
       "      <td>the 1897 princeton tigers football team repres...</td>\n",
       "    </tr>\n",
       "  </tbody>\n",
       "</table>\n",
       "</div>"
      ],
      "text/plain": [
       "   index                                     title  \\\n",
       "0      0              1928_in_association_football   \n",
       "1      1                           1986_NBA_Finals   \n",
       "2      2     1901_Villanova_Wildcats_football_team   \n",
       "3      3  1992_Northwestern_Wildcats_football_team   \n",
       "4      4       1897_Princeton_Tigers_football_team   \n",
       "\n",
       "                                                text  \n",
       "0  the following are the football lrb soccer rrb ...  \n",
       "1  the 1986 nba finals was the championship round...  \n",
       "2  the 1901 villanova wildcats football team repr...  \n",
       "3  the 1992 northwestern wildcats team represente...  \n",
       "4  the 1897 princeton tigers football team repres...  "
      ]
     },
     "execution_count": 12,
     "metadata": {},
     "output_type": "execute_result"
    }
   ],
   "source": [
    "wiki_df.head()"
   ]
  },
  {
   "cell_type": "code",
   "execution_count": 13,
   "metadata": {},
   "outputs": [
    {
     "data": {
      "text/plain": [
       "True"
      ]
     },
     "execution_count": 13,
     "metadata": {},
     "output_type": "execute_result"
    }
   ],
   "source": [
    "# CHECK IF index is unique\n",
    "is_unique = wiki_df['index'].nunique() == len(wiki_df)\n",
    "is_unique"
   ]
  },
  {
   "cell_type": "code",
   "execution_count": 14,
   "metadata": {},
   "outputs": [
    {
     "data": {
      "text/plain": [
       "True"
      ]
     },
     "execution_count": 14,
     "metadata": {},
     "output_type": "execute_result"
    }
   ],
   "source": [
    "is_unique = wiki_df['title'].nunique() == len(wiki_df)\n",
    "is_unique"
   ]
  },
  {
   "cell_type": "code",
   "execution_count": 33,
   "metadata": {},
   "outputs": [],
   "source": [
    "def get_claim_df():\n",
    "    claim_dataset = load_dataset('fever', 'v1.0', cache_dir='/home/rahvk/data/tmp/cache')\n",
    "    claim_df = pd.DataFrame()\n",
    "\n",
    "    for split in ['train', 'labelled_dev', 'paper_dev', 'paper_test']:\n",
    "        # Load train file\n",
    "        claim_split = claim_dataset[split]\n",
    "        claim_d = pd.DataFrame(claim_split)\n",
    "\n",
    "        claim_d = claim_d.drop(columns=['evidence_annotation_id', 'evidence_id', 'evidence_sentence_id'])\n",
    "        # Remove rows with label NOT ENOUGH INFO\n",
    "        claim_d = claim_d[claim_d['label'] != \"NOT ENOUGH INFO\"]\n",
    "\n",
    "        # Clean claim DataFrame\n",
    "        claim_d = clean_text(df=claim_d, column=\"claim\")\n",
    "        claim_d.rename(columns={'evidence_wiki_url': 'title'}, inplace=True)\n",
    "        claim_df = pd.concat([claim_df, claim_d], axis=0).drop_duplicates()\n",
    "\n",
    "        del claim_split\n",
    "        del claim_d\n",
    "\n",
    "    del claim_dataset\n",
    "    \n",
    "    return claim_df"
   ]
  },
  {
   "cell_type": "code",
   "execution_count": 34,
   "metadata": {},
   "outputs": [
    {
     "name": "stderr",
     "output_type": "stream",
     "text": [
      "Found cached dataset fever (/home/rahvk/data/tmp/cache/fever/v1.0/1.0.0/7f8936e0558704771b08c7ce9cc202071b29a0050603374507ba61d23c00a58e)\n"
     ]
    },
    {
     "data": {
      "application/vnd.jupyter.widget-view+json": {
       "model_id": "c5b5cc6a58984900baf395de9483b986",
       "version_major": 2,
       "version_minor": 0
      },
      "text/plain": [
       "  0%|          | 0/6 [00:00<?, ?it/s]"
      ]
     },
     "metadata": {},
     "output_type": "display_data"
    },
    {
     "data": {
      "text/html": [
       "<div>\n",
       "<style scoped>\n",
       "    .dataframe tbody tr th:only-of-type {\n",
       "        vertical-align: middle;\n",
       "    }\n",
       "\n",
       "    .dataframe tbody tr th {\n",
       "        vertical-align: top;\n",
       "    }\n",
       "\n",
       "    .dataframe thead th {\n",
       "        text-align: right;\n",
       "    }\n",
       "</style>\n",
       "<table border=\"1\" class=\"dataframe\">\n",
       "  <thead>\n",
       "    <tr style=\"text-align: right;\">\n",
       "      <th></th>\n",
       "      <th>id</th>\n",
       "      <th>label</th>\n",
       "      <th>claim</th>\n",
       "      <th>title</th>\n",
       "    </tr>\n",
       "  </thead>\n",
       "  <tbody>\n",
       "    <tr>\n",
       "      <th>0</th>\n",
       "      <td>75397</td>\n",
       "      <td>SUPPORTS</td>\n",
       "      <td>nikolaj coster waldau worked with the fox broa...</td>\n",
       "      <td>Nikolaj_Coster-Waldau</td>\n",
       "    </tr>\n",
       "    <tr>\n",
       "      <th>1</th>\n",
       "      <td>75397</td>\n",
       "      <td>SUPPORTS</td>\n",
       "      <td>nikolaj coster waldau worked with the fox broa...</td>\n",
       "      <td>Fox_Broadcasting_Company</td>\n",
       "    </tr>\n",
       "    <tr>\n",
       "      <th>2</th>\n",
       "      <td>150448</td>\n",
       "      <td>SUPPORTS</td>\n",
       "      <td>roman atwood is a content creator</td>\n",
       "      <td>Roman_Atwood</td>\n",
       "    </tr>\n",
       "    <tr>\n",
       "      <th>4</th>\n",
       "      <td>214861</td>\n",
       "      <td>SUPPORTS</td>\n",
       "      <td>history of art includes architecture dance scu...</td>\n",
       "      <td>History_of_art</td>\n",
       "    </tr>\n",
       "    <tr>\n",
       "      <th>5</th>\n",
       "      <td>156709</td>\n",
       "      <td>REFUTES</td>\n",
       "      <td>adrienne bailon is an accountant</td>\n",
       "      <td>Adrienne_Bailon</td>\n",
       "    </tr>\n",
       "  </tbody>\n",
       "</table>\n",
       "</div>"
      ],
      "text/plain": [
       "       id     label                                              claim  \\\n",
       "0   75397  SUPPORTS  nikolaj coster waldau worked with the fox broa...   \n",
       "1   75397  SUPPORTS  nikolaj coster waldau worked with the fox broa...   \n",
       "2  150448  SUPPORTS                  roman atwood is a content creator   \n",
       "4  214861  SUPPORTS  history of art includes architecture dance scu...   \n",
       "5  156709   REFUTES                   adrienne bailon is an accountant   \n",
       "\n",
       "                      title  \n",
       "0     Nikolaj_Coster-Waldau  \n",
       "1  Fox_Broadcasting_Company  \n",
       "2              Roman_Atwood  \n",
       "4            History_of_art  \n",
       "5           Adrienne_Bailon  "
      ]
     },
     "execution_count": 34,
     "metadata": {},
     "output_type": "execute_result"
    }
   ],
   "source": [
    "claim_df = get_claim_df()\n",
    "claim_df.head()"
   ]
  },
  {
   "cell_type": "code",
   "execution_count": 41,
   "metadata": {},
   "outputs": [
    {
     "data": {
      "text/plain": [
       "156101"
      ]
     },
     "execution_count": 41,
     "metadata": {},
     "output_type": "execute_result"
    }
   ],
   "source": [
    "len(claim_df)"
   ]
  },
  {
   "cell_type": "code",
   "execution_count": 35,
   "metadata": {},
   "outputs": [],
   "source": []
  },
  {
   "cell_type": "code",
   "execution_count": 44,
   "metadata": {},
   "outputs": [
    {
     "data": {
      "text/html": [
       "<div>\n",
       "<style scoped>\n",
       "    .dataframe tbody tr th:only-of-type {\n",
       "        vertical-align: middle;\n",
       "    }\n",
       "\n",
       "    .dataframe tbody tr th {\n",
       "        vertical-align: top;\n",
       "    }\n",
       "\n",
       "    .dataframe thead th {\n",
       "        text-align: right;\n",
       "    }\n",
       "</style>\n",
       "<table border=\"1\" class=\"dataframe\">\n",
       "  <thead>\n",
       "    <tr style=\"text-align: right;\">\n",
       "      <th></th>\n",
       "      <th>id</th>\n",
       "      <th>label</th>\n",
       "      <th>claim</th>\n",
       "      <th>title</th>\n",
       "    </tr>\n",
       "  </thead>\n",
       "  <tbody>\n",
       "    <tr>\n",
       "      <th>0</th>\n",
       "      <td>75397</td>\n",
       "      <td>SUPPORTS</td>\n",
       "      <td>nikolaj coster waldau worked with the fox broa...</td>\n",
       "      <td>Nikolaj_Coster-Waldau</td>\n",
       "    </tr>\n",
       "    <tr>\n",
       "      <th>1</th>\n",
       "      <td>75397</td>\n",
       "      <td>SUPPORTS</td>\n",
       "      <td>nikolaj coster waldau worked with the fox broa...</td>\n",
       "      <td>Fox_Broadcasting_Company</td>\n",
       "    </tr>\n",
       "    <tr>\n",
       "      <th>2</th>\n",
       "      <td>150448</td>\n",
       "      <td>SUPPORTS</td>\n",
       "      <td>roman atwood is a content creator</td>\n",
       "      <td>Roman_Atwood</td>\n",
       "    </tr>\n",
       "    <tr>\n",
       "      <th>3</th>\n",
       "      <td>214861</td>\n",
       "      <td>SUPPORTS</td>\n",
       "      <td>history of art includes architecture dance scu...</td>\n",
       "      <td>History_of_art</td>\n",
       "    </tr>\n",
       "    <tr>\n",
       "      <th>4</th>\n",
       "      <td>156709</td>\n",
       "      <td>REFUTES</td>\n",
       "      <td>adrienne bailon is an accountant</td>\n",
       "      <td>Adrienne_Bailon</td>\n",
       "    </tr>\n",
       "  </tbody>\n",
       "</table>\n",
       "</div>"
      ],
      "text/plain": [
       "       id     label                                              claim  \\\n",
       "0   75397  SUPPORTS  nikolaj coster waldau worked with the fox broa...   \n",
       "1   75397  SUPPORTS  nikolaj coster waldau worked with the fox broa...   \n",
       "2  150448  SUPPORTS                  roman atwood is a content creator   \n",
       "3  214861  SUPPORTS  history of art includes architecture dance scu...   \n",
       "4  156709   REFUTES                   adrienne bailon is an accountant   \n",
       "\n",
       "                      title  \n",
       "0     Nikolaj_Coster-Waldau  \n",
       "1  Fox_Broadcasting_Company  \n",
       "2              Roman_Atwood  \n",
       "3            History_of_art  \n",
       "4           Adrienne_Bailon  "
      ]
     },
     "execution_count": 44,
     "metadata": {},
     "output_type": "execute_result"
    }
   ],
   "source": [
    "claim_df = claim_df.reset_index(drop=True)\n",
    "claim_df.head()\n",
    "# print(len(claim_df))"
   ]
  },
  {
   "cell_type": "code",
   "execution_count": 45,
   "metadata": {},
   "outputs": [],
   "source": [
    "claim_df['title'] = claim_df['title'].str.strip()\n",
    "wiki_df['title'] = wiki_df['title'].str.strip()"
   ]
  },
  {
   "cell_type": "code",
   "execution_count": 77,
   "metadata": {},
   "outputs": [
    {
     "data": {
      "text/html": [
       "<div>\n",
       "<style scoped>\n",
       "    .dataframe tbody tr th:only-of-type {\n",
       "        vertical-align: middle;\n",
       "    }\n",
       "\n",
       "    .dataframe tbody tr th {\n",
       "        vertical-align: top;\n",
       "    }\n",
       "\n",
       "    .dataframe thead th {\n",
       "        text-align: right;\n",
       "    }\n",
       "</style>\n",
       "<table border=\"1\" class=\"dataframe\">\n",
       "  <thead>\n",
       "    <tr style=\"text-align: right;\">\n",
       "      <th></th>\n",
       "      <th>claim_id</th>\n",
       "      <th>label</th>\n",
       "      <th>claim</th>\n",
       "      <th>wiki_title</th>\n",
       "      <th>wiki_index</th>\n",
       "      <th>wiki_text</th>\n",
       "    </tr>\n",
       "  </thead>\n",
       "  <tbody>\n",
       "    <tr>\n",
       "      <th>0</th>\n",
       "      <td>75397</td>\n",
       "      <td>SUPPORTS</td>\n",
       "      <td>nikolaj coster waldau worked with the fox broa...</td>\n",
       "      <td>Nikolaj_Coster-Waldau</td>\n",
       "      <td>3508521</td>\n",
       "      <td>nikolaj coster waldau lrb lsb ne ola k sd ald ...</td>\n",
       "    </tr>\n",
       "    <tr>\n",
       "      <th>1</th>\n",
       "      <td>58718</td>\n",
       "      <td>REFUTES</td>\n",
       "      <td>nikolaj coster waldau was not in a danish thri...</td>\n",
       "      <td>Nikolaj_Coster-Waldau</td>\n",
       "      <td>3508521</td>\n",
       "      <td>nikolaj coster waldau lrb lsb ne ola k sd ald ...</td>\n",
       "    </tr>\n",
       "    <tr>\n",
       "      <th>2</th>\n",
       "      <td>134655</td>\n",
       "      <td>SUPPORTS</td>\n",
       "      <td>nikolaj coster waldau worked with peter dinklage</td>\n",
       "      <td>Nikolaj_Coster-Waldau</td>\n",
       "      <td>3508521</td>\n",
       "      <td>nikolaj coster waldau lrb lsb ne ola k sd ald ...</td>\n",
       "    </tr>\n",
       "    <tr>\n",
       "      <th>3</th>\n",
       "      <td>86306</td>\n",
       "      <td>REFUTES</td>\n",
       "      <td>nikolaj coster waldau refused to ever work wit...</td>\n",
       "      <td>Nikolaj_Coster-Waldau</td>\n",
       "      <td>3508521</td>\n",
       "      <td>nikolaj coster waldau lrb lsb ne ola k sd ald ...</td>\n",
       "    </tr>\n",
       "    <tr>\n",
       "      <th>4</th>\n",
       "      <td>149361</td>\n",
       "      <td>SUPPORTS</td>\n",
       "      <td>nikolaj coster waldau was in a film</td>\n",
       "      <td>Nikolaj_Coster-Waldau</td>\n",
       "      <td>3508521</td>\n",
       "      <td>nikolaj coster waldau lrb lsb ne ola k sd ald ...</td>\n",
       "    </tr>\n",
       "  </tbody>\n",
       "</table>\n",
       "</div>"
      ],
      "text/plain": [
       "   claim_id     label                                              claim  \\\n",
       "0     75397  SUPPORTS  nikolaj coster waldau worked with the fox broa...   \n",
       "1     58718   REFUTES  nikolaj coster waldau was not in a danish thri...   \n",
       "2    134655  SUPPORTS   nikolaj coster waldau worked with peter dinklage   \n",
       "3     86306   REFUTES  nikolaj coster waldau refused to ever work wit...   \n",
       "4    149361  SUPPORTS                nikolaj coster waldau was in a film   \n",
       "\n",
       "              wiki_title  wiki_index  \\\n",
       "0  Nikolaj_Coster-Waldau     3508521   \n",
       "1  Nikolaj_Coster-Waldau     3508521   \n",
       "2  Nikolaj_Coster-Waldau     3508521   \n",
       "3  Nikolaj_Coster-Waldau     3508521   \n",
       "4  Nikolaj_Coster-Waldau     3508521   \n",
       "\n",
       "                                           wiki_text  \n",
       "0  nikolaj coster waldau lrb lsb ne ola k sd ald ...  \n",
       "1  nikolaj coster waldau lrb lsb ne ola k sd ald ...  \n",
       "2  nikolaj coster waldau lrb lsb ne ola k sd ald ...  \n",
       "3  nikolaj coster waldau lrb lsb ne ola k sd ald ...  \n",
       "4  nikolaj coster waldau lrb lsb ne ola k sd ald ...  "
      ]
     },
     "execution_count": 77,
     "metadata": {},
     "output_type": "execute_result"
    }
   ],
   "source": [
    "# merged_df = pd.concat([claim_df, wiki_df], axis=1, join=\"inner\")\n",
    "merged_df = pd.merge(claim_df, wiki_df, on=\"title\")\n",
    "merged_df = merged_df.dropna(subset=['index'])\n",
    "merged_df.rename(columns={'id': 'claim_id', 'title': 'wiki_title', 'index': 'wiki_index', 'text':'wiki_text'}, inplace=True)\n",
    "merged_df = merged_df.drop(columns=['title_index'])\n",
    "\n",
    "merged_df.head()"
   ]
  },
  {
   "cell_type": "code",
   "execution_count": 78,
   "metadata": {},
   "outputs": [
    {
     "data": {
      "text/html": [
       "<div>\n",
       "<style scoped>\n",
       "    .dataframe tbody tr th:only-of-type {\n",
       "        vertical-align: middle;\n",
       "    }\n",
       "\n",
       "    .dataframe tbody tr th {\n",
       "        vertical-align: top;\n",
       "    }\n",
       "\n",
       "    .dataframe thead th {\n",
       "        text-align: right;\n",
       "    }\n",
       "</style>\n",
       "<table border=\"1\" class=\"dataframe\">\n",
       "  <thead>\n",
       "    <tr style=\"text-align: right;\">\n",
       "      <th></th>\n",
       "      <th>claim_id</th>\n",
       "      <th>label</th>\n",
       "      <th>claim</th>\n",
       "      <th>wiki_title</th>\n",
       "      <th>wiki_index</th>\n",
       "      <th>wiki_text</th>\n",
       "    </tr>\n",
       "  </thead>\n",
       "  <tbody>\n",
       "    <tr>\n",
       "      <th>0</th>\n",
       "      <td>75397</td>\n",
       "      <td>SUPPORTS</td>\n",
       "      <td>nikolaj coster waldau worked with the fox broa...</td>\n",
       "      <td>Nikolaj_Coster-Waldau</td>\n",
       "      <td>3508521</td>\n",
       "      <td>nikolaj coster waldau lrb lsb ne ola k sd ald ...</td>\n",
       "    </tr>\n",
       "    <tr>\n",
       "      <th>1</th>\n",
       "      <td>58718</td>\n",
       "      <td>REFUTES</td>\n",
       "      <td>nikolaj coster waldau was not in a danish thri...</td>\n",
       "      <td>Nikolaj_Coster-Waldau</td>\n",
       "      <td>3508521</td>\n",
       "      <td>nikolaj coster waldau lrb lsb ne ola k sd ald ...</td>\n",
       "    </tr>\n",
       "    <tr>\n",
       "      <th>2</th>\n",
       "      <td>134655</td>\n",
       "      <td>SUPPORTS</td>\n",
       "      <td>nikolaj coster waldau worked with peter dinklage</td>\n",
       "      <td>Nikolaj_Coster-Waldau</td>\n",
       "      <td>3508521</td>\n",
       "      <td>nikolaj coster waldau lrb lsb ne ola k sd ald ...</td>\n",
       "    </tr>\n",
       "    <tr>\n",
       "      <th>3</th>\n",
       "      <td>86306</td>\n",
       "      <td>REFUTES</td>\n",
       "      <td>nikolaj coster waldau refused to ever work wit...</td>\n",
       "      <td>Nikolaj_Coster-Waldau</td>\n",
       "      <td>3508521</td>\n",
       "      <td>nikolaj coster waldau lrb lsb ne ola k sd ald ...</td>\n",
       "    </tr>\n",
       "    <tr>\n",
       "      <th>4</th>\n",
       "      <td>149361</td>\n",
       "      <td>SUPPORTS</td>\n",
       "      <td>nikolaj coster waldau was in a film</td>\n",
       "      <td>Nikolaj_Coster-Waldau</td>\n",
       "      <td>3508521</td>\n",
       "      <td>nikolaj coster waldau lrb lsb ne ola k sd ald ...</td>\n",
       "    </tr>\n",
       "    <tr>\n",
       "      <th>...</th>\n",
       "      <td>...</td>\n",
       "      <td>...</td>\n",
       "      <td>...</td>\n",
       "      <td>...</td>\n",
       "      <td>...</td>\n",
       "      <td>...</td>\n",
       "    </tr>\n",
       "    <tr>\n",
       "      <th>102741</th>\n",
       "      <td>29142</td>\n",
       "      <td>SUPPORTS</td>\n",
       "      <td>pakistan s semi industrialized economy is the ...</td>\n",
       "      <td>Economy_of_Pakistan</td>\n",
       "      <td>1481261</td>\n",
       "      <td>the economy of pakistan is the 25th largest in...</td>\n",
       "    </tr>\n",
       "    <tr>\n",
       "      <th>102742</th>\n",
       "      <td>76838</td>\n",
       "      <td>REFUTES</td>\n",
       "      <td>hollow man has one sequel called hollow man 2 ...</td>\n",
       "      <td>Hollow_Man_2</td>\n",
       "      <td>2220699</td>\n",
       "      <td>hollow man 2 is a 2006 american science fictio...</td>\n",
       "    </tr>\n",
       "    <tr>\n",
       "      <th>102743</th>\n",
       "      <td>77911</td>\n",
       "      <td>SUPPORTS</td>\n",
       "      <td>the fame was released in or before 2016</td>\n",
       "      <td>52nd_Annual_Grammy_Awards</td>\n",
       "      <td>270081</td>\n",
       "      <td>the 52nd annual grammy awards took place on ja...</td>\n",
       "    </tr>\n",
       "    <tr>\n",
       "      <th>102744</th>\n",
       "      <td>75621</td>\n",
       "      <td>REFUTES</td>\n",
       "      <td>south island is separated from north island by...</td>\n",
       "      <td>Cook_Strait</td>\n",
       "      <td>1257124</td>\n",
       "      <td>cook strait lrb te moana o raukawa rrb lies be...</td>\n",
       "    </tr>\n",
       "    <tr>\n",
       "      <th>102745</th>\n",
       "      <td>41330</td>\n",
       "      <td>SUPPORTS</td>\n",
       "      <td>castlevania came out in japan in september 1986</td>\n",
       "      <td>Castlevania</td>\n",
       "      <td>1060934</td>\n",
       "      <td>castlevania also known in japanese as is a ser...</td>\n",
       "    </tr>\n",
       "  </tbody>\n",
       "</table>\n",
       "<p>102746 rows × 6 columns</p>\n",
       "</div>"
      ],
      "text/plain": [
       "        claim_id     label                                              claim  \\\n",
       "0          75397  SUPPORTS  nikolaj coster waldau worked with the fox broa...   \n",
       "1          58718   REFUTES  nikolaj coster waldau was not in a danish thri...   \n",
       "2         134655  SUPPORTS   nikolaj coster waldau worked with peter dinklage   \n",
       "3          86306   REFUTES  nikolaj coster waldau refused to ever work wit...   \n",
       "4         149361  SUPPORTS                nikolaj coster waldau was in a film   \n",
       "...          ...       ...                                                ...   \n",
       "102741     29142  SUPPORTS  pakistan s semi industrialized economy is the ...   \n",
       "102742     76838   REFUTES  hollow man has one sequel called hollow man 2 ...   \n",
       "102743     77911  SUPPORTS            the fame was released in or before 2016   \n",
       "102744     75621   REFUTES  south island is separated from north island by...   \n",
       "102745     41330  SUPPORTS    castlevania came out in japan in september 1986   \n",
       "\n",
       "                       wiki_title  wiki_index  \\\n",
       "0           Nikolaj_Coster-Waldau     3508521   \n",
       "1           Nikolaj_Coster-Waldau     3508521   \n",
       "2           Nikolaj_Coster-Waldau     3508521   \n",
       "3           Nikolaj_Coster-Waldau     3508521   \n",
       "4           Nikolaj_Coster-Waldau     3508521   \n",
       "...                           ...         ...   \n",
       "102741        Economy_of_Pakistan     1481261   \n",
       "102742               Hollow_Man_2     2220699   \n",
       "102743  52nd_Annual_Grammy_Awards      270081   \n",
       "102744                Cook_Strait     1257124   \n",
       "102745                Castlevania     1060934   \n",
       "\n",
       "                                                wiki_text  \n",
       "0       nikolaj coster waldau lrb lsb ne ola k sd ald ...  \n",
       "1       nikolaj coster waldau lrb lsb ne ola k sd ald ...  \n",
       "2       nikolaj coster waldau lrb lsb ne ola k sd ald ...  \n",
       "3       nikolaj coster waldau lrb lsb ne ola k sd ald ...  \n",
       "4       nikolaj coster waldau lrb lsb ne ola k sd ald ...  \n",
       "...                                                   ...  \n",
       "102741  the economy of pakistan is the 25th largest in...  \n",
       "102742  hollow man 2 is a 2006 american science fictio...  \n",
       "102743  the 52nd annual grammy awards took place on ja...  \n",
       "102744  cook strait lrb te moana o raukawa rrb lies be...  \n",
       "102745  castlevania also known in japanese as is a ser...  \n",
       "\n",
       "[102746 rows x 6 columns]"
      ]
     },
     "execution_count": 78,
     "metadata": {},
     "output_type": "execute_result"
    }
   ],
   "source": [
    "merged_df.head(-5)"
   ]
  },
  {
   "cell_type": "code",
   "execution_count": 81,
   "metadata": {},
   "outputs": [],
   "source": [
    "merged_df.to_parquet('processed_df/merged_df.parquet')"
   ]
  },
  {
   "cell_type": "code",
   "execution_count": null,
   "metadata": {},
   "outputs": [],
   "source": []
  }
 ],
 "metadata": {
  "kernelspec": {
   "display_name": "Python faiss_1.7.4",
   "language": "python",
   "name": "faiss_1.7.4"
  },
  "language_info": {
   "codemirror_mode": {
    "name": "ipython",
    "version": 3
   },
   "file_extension": ".py",
   "mimetype": "text/x-python",
   "name": "python",
   "nbconvert_exporter": "python",
   "pygments_lexer": "ipython3",
   "version": "3.10.13"
  }
 },
 "nbformat": 4,
 "nbformat_minor": 2
}
