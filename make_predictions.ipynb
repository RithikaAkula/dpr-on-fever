{
 "cells": [
  {
   "cell_type": "markdown",
   "id": "528a4037",
   "metadata": {},
   "source": [
    "## LOADING PRETRAINED MODEL"
   ]
  },
  {
   "cell_type": "code",
   "execution_count": 1,
   "id": "6014ce96",
   "metadata": {},
   "outputs": [],
   "source": [
    "import pandas as pd"
   ]
  },
  {
   "cell_type": "code",
   "execution_count": 18,
   "id": "c6dd745f",
   "metadata": {},
   "outputs": [],
   "source": [
    "from simpletransformers.retrieval import RetrievalModel\n",
    "\n",
    "\n",
    "model_type = \"dpr\"\n",
    "model_name = \"/home/rahvk/data/tmp/cache/model-hn-5/checkpoint-12844-epoch-1\"\n",
    "\n",
    "# Initialize a RetrievalModel\n",
    "model = RetrievalModel(\n",
    "    model_type=model_type,\n",
    "    model_name=model_name,\n",
    ")"
   ]
  },
  {
   "cell_type": "markdown",
   "id": "24a3c600",
   "metadata": {},
   "source": [
    "## EVALUATING LOADED MODEL"
   ]
  },
  {
   "cell_type": "code",
   "execution_count": 19,
   "id": "09d17aaa",
   "metadata": {},
   "outputs": [],
   "source": [
    "train_data = pd.read_parquet('processed_df/train_data.parquet')\n"
   ]
  },
  {
   "cell_type": "code",
   "execution_count": 20,
   "id": "cdad2245",
   "metadata": {},
   "outputs": [
    {
     "data": {
      "text/html": [
       "<div>\n",
       "<style scoped>\n",
       "    .dataframe tbody tr th:only-of-type {\n",
       "        vertical-align: middle;\n",
       "    }\n",
       "\n",
       "    .dataframe tbody tr th {\n",
       "        vertical-align: top;\n",
       "    }\n",
       "\n",
       "    .dataframe thead th {\n",
       "        text-align: right;\n",
       "    }\n",
       "</style>\n",
       "<table border=\"1\" class=\"dataframe\">\n",
       "  <thead>\n",
       "    <tr style=\"text-align: right;\">\n",
       "      <th></th>\n",
       "      <th>query_text</th>\n",
       "      <th>gold_passage</th>\n",
       "      <th>title</th>\n",
       "      <th>hard_negative</th>\n",
       "    </tr>\n",
       "  </thead>\n",
       "  <tbody>\n",
       "    <tr>\n",
       "      <th>0</th>\n",
       "      <td>nikolaj coster waldau worked with the fox broa...</td>\n",
       "      <td>nikolaj coster waldau lrb lsb ne ola k sd ald ...</td>\n",
       "      <td>Nikolaj_Coster-Waldau</td>\n",
       "      <td>frederick fred seibert lrb born september 15 1...</td>\n",
       "    </tr>\n",
       "    <tr>\n",
       "      <th>1</th>\n",
       "      <td>nikolaj coster waldau was not in a danish thri...</td>\n",
       "      <td>nikolaj coster waldau lrb lsb ne ola k sd ald ...</td>\n",
       "      <td>Nikolaj_Coster-Waldau</td>\n",
       "      <td>lars von trier lrb lars trier 30 april 1956 rr...</td>\n",
       "    </tr>\n",
       "    <tr>\n",
       "      <th>2</th>\n",
       "      <td>nikolaj coster waldau worked with peter dinklage</td>\n",
       "      <td>nikolaj coster waldau lrb lsb ne ola k sd ald ...</td>\n",
       "      <td>Nikolaj_Coster-Waldau</td>\n",
       "      <td>arthur schopenhauer lrb lsb a t o pm ha rsb 22...</td>\n",
       "    </tr>\n",
       "    <tr>\n",
       "      <th>3</th>\n",
       "      <td>nikolaj coster waldau refused to ever work wit...</td>\n",
       "      <td>nikolaj coster waldau lrb lsb ne ola k sd ald ...</td>\n",
       "      <td>Nikolaj_Coster-Waldau</td>\n",
       "      <td>harry herbert frazee lrb june 29 1880 june 4 1...</td>\n",
       "    </tr>\n",
       "    <tr>\n",
       "      <th>4</th>\n",
       "      <td>nikolaj coster waldau was in a film</td>\n",
       "      <td>nikolaj coster waldau lrb lsb ne ola k sd ald ...</td>\n",
       "      <td>Nikolaj_Coster-Waldau</td>\n",
       "      <td>armin mueller stahl lrb born 17 december 1930 ...</td>\n",
       "    </tr>\n",
       "  </tbody>\n",
       "</table>\n",
       "</div>"
      ],
      "text/plain": [
       "                                          query_text  \\\n",
       "0  nikolaj coster waldau worked with the fox broa...   \n",
       "1  nikolaj coster waldau was not in a danish thri...   \n",
       "2   nikolaj coster waldau worked with peter dinklage   \n",
       "3  nikolaj coster waldau refused to ever work wit...   \n",
       "4                nikolaj coster waldau was in a film   \n",
       "\n",
       "                                        gold_passage                  title  \\\n",
       "0  nikolaj coster waldau lrb lsb ne ola k sd ald ...  Nikolaj_Coster-Waldau   \n",
       "1  nikolaj coster waldau lrb lsb ne ola k sd ald ...  Nikolaj_Coster-Waldau   \n",
       "2  nikolaj coster waldau lrb lsb ne ola k sd ald ...  Nikolaj_Coster-Waldau   \n",
       "3  nikolaj coster waldau lrb lsb ne ola k sd ald ...  Nikolaj_Coster-Waldau   \n",
       "4  nikolaj coster waldau lrb lsb ne ola k sd ald ...  Nikolaj_Coster-Waldau   \n",
       "\n",
       "                                       hard_negative  \n",
       "0  frederick fred seibert lrb born september 15 1...  \n",
       "1  lars von trier lrb lars trier 30 april 1956 rr...  \n",
       "2  arthur schopenhauer lrb lsb a t o pm ha rsb 22...  \n",
       "3  harry herbert frazee lrb june 29 1880 june 4 1...  \n",
       "4  armin mueller stahl lrb born 17 december 1930 ...  "
      ]
     },
     "execution_count": 20,
     "metadata": {},
     "output_type": "execute_result"
    }
   ],
   "source": [
    "train_data.head()"
   ]
  },
  {
   "cell_type": "code",
   "execution_count": 21,
   "id": "aae007a4",
   "metadata": {},
   "outputs": [
    {
     "data": {
      "application/vnd.jupyter.widget-view+json": {
       "model_id": "04773594f692476bbfc970a7c24ea61e",
       "version_major": 2,
       "version_minor": 0
      },
      "text/plain": [
       "Map:   0%|          | 0/102748 [00:00<?, ? examples/s]"
      ]
     },
     "metadata": {},
     "output_type": "display_data"
    },
    {
     "data": {
      "application/vnd.jupyter.widget-view+json": {
       "model_id": "725d3526e90d449d907c8d5a6809774c",
       "version_major": 2,
       "version_minor": 0
      },
      "text/plain": [
       "Map:   0%|          | 0/102748 [00:00<?, ? examples/s]"
      ]
     },
     "metadata": {},
     "output_type": "display_data"
    },
    {
     "data": {
      "application/vnd.jupyter.widget-view+json": {
       "model_id": "85999bf6cc3243f5901d0c501eb50d7e",
       "version_major": 2,
       "version_minor": 0
      },
      "text/plain": [
       "Map:   0%|          | 0/102748 [00:00<?, ? examples/s]"
      ]
     },
     "metadata": {},
     "output_type": "display_data"
    },
    {
     "data": {
      "application/vnd.jupyter.widget-view+json": {
       "model_id": "af514a96550e401681b2738528c2827e",
       "version_major": 2,
       "version_minor": 0
      },
      "text/plain": [
       "Saving the dataset (0/1 shards):   0%|          | 0/102748 [00:00<?, ? examples/s]"
      ]
     },
     "metadata": {},
     "output_type": "display_data"
    },
    {
     "data": {
      "application/vnd.jupyter.widget-view+json": {
       "model_id": "b01d1bf9494a4a12b34e4214008c4b3a",
       "version_major": 2,
       "version_minor": 0
      },
      "text/plain": [
       "  0%|          | 0/103 [00:00<?, ?it/s]"
      ]
     },
     "metadata": {},
     "output_type": "display_data"
    },
    {
     "data": {
      "application/vnd.jupyter.widget-view+json": {
       "model_id": "921118468d604007a526a44542abcc14",
       "version_major": 2,
       "version_minor": 0
      },
      "text/plain": [
       "Map:   0%|          | 0/102748 [00:00<?, ? examples/s]"
      ]
     },
     "metadata": {},
     "output_type": "display_data"
    },
    {
     "data": {
      "application/vnd.jupyter.widget-view+json": {
       "model_id": "27aa1dbd7cb04cb9ae1df954fd89f5ff",
       "version_major": 2,
       "version_minor": 0
      },
      "text/plain": [
       "Map:   0%|          | 0/102748 [00:00<?, ? examples/s]"
      ]
     },
     "metadata": {},
     "output_type": "display_data"
    },
    {
     "data": {
      "application/vnd.jupyter.widget-view+json": {
       "model_id": "c223966ac8c74f739d112c795542580b",
       "version_major": 2,
       "version_minor": 0
      },
      "text/plain": [
       "Running Evaluation:   0%|          | 0/12844 [00:00<?, ?it/s]"
      ]
     },
     "metadata": {},
     "output_type": "display_data"
    },
    {
     "name": "stderr",
     "output_type": "stream",
     "text": [
      "/home/rahvk/data/tmp/anaconda3/envs/faiss_1.7.4/lib/python3.10/site-packages/simpletransformers/retrieval/retrieval_model.py:1659: UserWarning: To copy construct from a tensor, it is recommended to use sourceTensor.clone().detach() or sourceTensor.clone().detach().requires_grad_(True), rather than torch.tensor(sourceTensor).\n",
      "  (max_idxs == torch.tensor(labels)).sum().cpu().detach().numpy().item()\n"
     ]
    },
    {
     "data": {
      "application/vnd.jupyter.widget-view+json": {
       "model_id": "0e40e0e725284cbf85a1806a268042b3",
       "version_major": 2,
       "version_minor": 0
      },
      "text/plain": [
       "Retrieving docs:   0%|          | 0/201 [00:00<?, ?it/s]"
      ]
     },
     "metadata": {},
     "output_type": "display_data"
    }
   ],
   "source": [
    "result = model.eval_model(train_data)\n"
   ]
  },
  {
   "cell_type": "code",
   "execution_count": 22,
   "id": "f0c8b945",
   "metadata": {},
   "outputs": [
    {
     "data": {
      "text/plain": [
       "{'eval_loss': 6.47824800401875,\n",
       " 'mrr@1': 0.0,\n",
       " 'mrr@2': 0.0,\n",
       " 'mrr@3': 0.0,\n",
       " 'mrr@5': 0.0,\n",
       " 'mrr@10': 0.0,\n",
       " 'top_1_accuracy': 0.0,\n",
       " 'top_2_accuracy': 0.0,\n",
       " 'top_3_accuracy': 0.0,\n",
       " 'top_5_accuracy': 0.0,\n",
       " 'top_10_accuracy': 0.0}"
      ]
     },
     "execution_count": 22,
     "metadata": {},
     "output_type": "execute_result"
    }
   ],
   "source": [
    "res, doc_ids, doc_vectors, doc_dicts = result\n",
    "res"
   ]
  },
  {
   "cell_type": "markdown",
   "id": "2ac95a39",
   "metadata": {},
   "source": [
    "## MAKING PREDICTIONS"
   ]
  },
  {
   "cell_type": "code",
   "execution_count": 7,
   "id": "b06a6c5e",
   "metadata": {},
   "outputs": [],
   "source": [
    "merged_df = pd.read_parquet('processed_df/merged_df.parquet')\n"
   ]
  },
  {
   "cell_type": "code",
   "execution_count": 8,
   "id": "4a902926",
   "metadata": {},
   "outputs": [
    {
     "data": {
      "text/html": [
       "<div>\n",
       "<style scoped>\n",
       "    .dataframe tbody tr th:only-of-type {\n",
       "        vertical-align: middle;\n",
       "    }\n",
       "\n",
       "    .dataframe tbody tr th {\n",
       "        vertical-align: top;\n",
       "    }\n",
       "\n",
       "    .dataframe thead th {\n",
       "        text-align: right;\n",
       "    }\n",
       "</style>\n",
       "<table border=\"1\" class=\"dataframe\">\n",
       "  <thead>\n",
       "    <tr style=\"text-align: right;\">\n",
       "      <th></th>\n",
       "      <th>claim_id</th>\n",
       "      <th>label</th>\n",
       "      <th>claim</th>\n",
       "      <th>wiki_title</th>\n",
       "      <th>wiki_index</th>\n",
       "      <th>wiki_text</th>\n",
       "    </tr>\n",
       "  </thead>\n",
       "  <tbody>\n",
       "    <tr>\n",
       "      <th>0</th>\n",
       "      <td>75397</td>\n",
       "      <td>SUPPORTS</td>\n",
       "      <td>nikolaj coster waldau worked with the fox broa...</td>\n",
       "      <td>Nikolaj_Coster-Waldau</td>\n",
       "      <td>3508521</td>\n",
       "      <td>nikolaj coster waldau lrb lsb ne ola k sd ald ...</td>\n",
       "    </tr>\n",
       "    <tr>\n",
       "      <th>1</th>\n",
       "      <td>58718</td>\n",
       "      <td>REFUTES</td>\n",
       "      <td>nikolaj coster waldau was not in a danish thri...</td>\n",
       "      <td>Nikolaj_Coster-Waldau</td>\n",
       "      <td>3508521</td>\n",
       "      <td>nikolaj coster waldau lrb lsb ne ola k sd ald ...</td>\n",
       "    </tr>\n",
       "    <tr>\n",
       "      <th>2</th>\n",
       "      <td>134655</td>\n",
       "      <td>SUPPORTS</td>\n",
       "      <td>nikolaj coster waldau worked with peter dinklage</td>\n",
       "      <td>Nikolaj_Coster-Waldau</td>\n",
       "      <td>3508521</td>\n",
       "      <td>nikolaj coster waldau lrb lsb ne ola k sd ald ...</td>\n",
       "    </tr>\n",
       "    <tr>\n",
       "      <th>3</th>\n",
       "      <td>86306</td>\n",
       "      <td>REFUTES</td>\n",
       "      <td>nikolaj coster waldau refused to ever work wit...</td>\n",
       "      <td>Nikolaj_Coster-Waldau</td>\n",
       "      <td>3508521</td>\n",
       "      <td>nikolaj coster waldau lrb lsb ne ola k sd ald ...</td>\n",
       "    </tr>\n",
       "    <tr>\n",
       "      <th>4</th>\n",
       "      <td>149361</td>\n",
       "      <td>SUPPORTS</td>\n",
       "      <td>nikolaj coster waldau was in a film</td>\n",
       "      <td>Nikolaj_Coster-Waldau</td>\n",
       "      <td>3508521</td>\n",
       "      <td>nikolaj coster waldau lrb lsb ne ola k sd ald ...</td>\n",
       "    </tr>\n",
       "  </tbody>\n",
       "</table>\n",
       "</div>"
      ],
      "text/plain": [
       "   claim_id     label                                              claim  \\\n",
       "0     75397  SUPPORTS  nikolaj coster waldau worked with the fox broa...   \n",
       "1     58718   REFUTES  nikolaj coster waldau was not in a danish thri...   \n",
       "2    134655  SUPPORTS   nikolaj coster waldau worked with peter dinklage   \n",
       "3     86306   REFUTES  nikolaj coster waldau refused to ever work wit...   \n",
       "4    149361  SUPPORTS                nikolaj coster waldau was in a film   \n",
       "\n",
       "              wiki_title  wiki_index  \\\n",
       "0  Nikolaj_Coster-Waldau     3508521   \n",
       "1  Nikolaj_Coster-Waldau     3508521   \n",
       "2  Nikolaj_Coster-Waldau     3508521   \n",
       "3  Nikolaj_Coster-Waldau     3508521   \n",
       "4  Nikolaj_Coster-Waldau     3508521   \n",
       "\n",
       "                                           wiki_text  \n",
       "0  nikolaj coster waldau lrb lsb ne ola k sd ald ...  \n",
       "1  nikolaj coster waldau lrb lsb ne ola k sd ald ...  \n",
       "2  nikolaj coster waldau lrb lsb ne ola k sd ald ...  \n",
       "3  nikolaj coster waldau lrb lsb ne ola k sd ald ...  \n",
       "4  nikolaj coster waldau lrb lsb ne ola k sd ald ...  "
      ]
     },
     "execution_count": 8,
     "metadata": {},
     "output_type": "execute_result"
    }
   ],
   "source": [
    "merged_df.head()"
   ]
  },
  {
   "cell_type": "code",
   "execution_count": 9,
   "id": "ef5071cf",
   "metadata": {},
   "outputs": [],
   "source": [
    "queries = list(set(merged_df['claim']))\n",
    "passages = list(set(merged_df['wiki_text']))"
   ]
  },
  {
   "cell_type": "code",
   "execution_count": 10,
   "id": "9034aa3f",
   "metadata": {},
   "outputs": [],
   "source": [
    "to_predict = queries[:5]"
   ]
  },
  {
   "cell_type": "code",
   "execution_count": 11,
   "id": "acd6c343",
   "metadata": {},
   "outputs": [
    {
     "data": {
      "application/vnd.jupyter.widget-view+json": {
       "model_id": "af5d88f3869f415397721f8fdc3b0618",
       "version_major": 2,
       "version_minor": 0
      },
      "text/plain": [
       "Map:   0%|          | 0/9528 [00:00<?, ? examples/s]"
      ]
     },
     "metadata": {},
     "output_type": "display_data"
    },
    {
     "data": {
      "application/vnd.jupyter.widget-view+json": {
       "model_id": "d7f098f7276c43ba84bcd0cc5de7b77a",
       "version_major": 2,
       "version_minor": 0
      },
      "text/plain": [
       "Saving the dataset (0/1 shards):   0%|          | 0/9528 [00:00<?, ? examples/s]"
      ]
     },
     "metadata": {},
     "output_type": "display_data"
    },
    {
     "data": {
      "application/vnd.jupyter.widget-view+json": {
       "model_id": "6878c57a77d349acb5ba3b86c0109244",
       "version_major": 2,
       "version_minor": 0
      },
      "text/plain": [
       "  0%|          | 0/10 [00:00<?, ?it/s]"
      ]
     },
     "metadata": {},
     "output_type": "display_data"
    },
    {
     "data": {
      "application/vnd.jupyter.widget-view+json": {
       "model_id": "ab431f035f1c4d3881f13b588e00729e",
       "version_major": 2,
       "version_minor": 0
      },
      "text/plain": [
       "Generating query embeddings: 0it [00:00, ?it/s]"
      ]
     },
     "metadata": {},
     "output_type": "display_data"
    },
    {
     "data": {
      "application/vnd.jupyter.widget-view+json": {
       "model_id": "3f5e5125ae4b4a81a08ad191e349b46a",
       "version_major": 2,
       "version_minor": 0
      },
      "text/plain": [
       "Retrieving docs:   0%|          | 0/1 [00:00<?, ?it/s]"
      ]
     },
     "metadata": {},
     "output_type": "display_data"
    }
   ],
   "source": [
    "predicted_passages, doc_ids, doc_vectors, doc_dicts = model.predict(to_predict, prediction_passages=passages)"
   ]
  },
  {
   "cell_type": "markdown",
   "id": "e7fea237",
   "metadata": {},
   "source": [
    "Note: predicted_passages is a list of lists having predicted top-10 documents per claim in the 'to_predict' list"
   ]
  },
  {
   "cell_type": "code",
   "execution_count": 12,
   "id": "3218eba0",
   "metadata": {},
   "outputs": [
    {
     "name": "stdout",
     "output_type": "stream",
     "text": [
      "5\n",
      "10\n"
     ]
    }
   ],
   "source": [
    "print(len(predicted_passages))\n",
    "print(len(predicted_passages[0]))"
   ]
  },
  {
   "cell_type": "code",
   "execution_count": 17,
   "id": "affdda4e",
   "metadata": {},
   "outputs": [
    {
     "name": "stdout",
     "output_type": "stream",
     "text": [
      "Claim: david carradine had offenses\n",
      "Actual passage: 29798    david carradine lrb born john arthur carradine...\n",
      "Name: wiki_text, dtype: object\n",
      "Predicted top passage: hell in many religious and folkloric traditions is a place of torment and punishment in an afterlife religions with a linear divine history often depict hells as eternal destinations while religions with a cyclic history often depict a hell as an intermediary period between incarnations typically these traditions locate hell in another dimension or under the earth s surface and often include entrances to hell from the land of the living other afterlife destinations include heaven purgatory paradise and limbo other traditions which do not conceive of the afterlife as a place of punishment or reward merely describe hell as an abode of the dead the grave a neutral place located under the surface of earth lrb for example see sheol and hades rrb hell is sometimes portrayed as populated with demons who torment those dwelling there many are ruled by a death god such as nergal hades hel or enma\n",
      "Claim: claudia leitte is brazilian\n",
      "Actual passage: 50638    cl udia cristina leite in cio pedreira lrb lsb...\n",
      "Name: wiki_text, dtype: object\n",
      "Predicted top passage: canberra united football club is a soccer club based in canberra australia for the women s team it competes in the country s premier women s competition the w league for the men s and youth teams it competes in the npl capital football competition the club was formed in 2008 for the w league s inaugural season canberra is the only team in the league that is not affiliated to a men s a league club the restructuring of a youth development program in 2016 sees the addition of a canberra united academy team league to the npl capital football competition additionally a team in the national youth league from canberra also competes lrb the australian institute of sport rrb in their first w league season canberra were runners up in the grand final defeated by queensland roar lrb now brisbane roar rrb canberra were crowned premiers and champions in the 2011 12 season after winning the league and defeating brisbane roar in the grand final\n",
      "Claim: the term cult film was used to describe the group that surrounded underground films\n",
      "Actual passage: 10119    a cult film also commonly referred to as a cul...\n",
      "Name: wiki_text, dtype: object\n",
      "Predicted top passage: dominance in genetics is a relationship between alleles of one gene in which the effect on phenotype of one allele masks the contribution of a second allele at the same locus the first allele is dominant and the second allele is recessive for genes on an autosome lrb any chromosome other than a sex chromosome rrb the alleles and their associated traits are autosomal dominant or autosomal recessive dominance is a key concept in mendelian inheritance and classical genetics often the dominant allele codes for a functional protein whereas the recessive allele does not a classic example of dominance is the inheritance of seed shape in peas peas may be round associated with allele r or wrinkled associated with allele r in this case three combinations of alleles lrb genotypes rrb are possible rr rr and rr the rr individuals have round peas and the rr individuals have wrinkled peas in rr individuals the r allele masks the presence of the r allele so these individuals also have round peas thus allele r is dominant to allele r and allele r is recessive to allele r this use of upper case letters for dominant alleles and lower case ones for recessive alleles is a widely followed convention more generally where a gene exists in two allelic versions lrb designated a and a rrb three combinations of alleles are possible aa aa and aa if aa and aa individuals lrb homozygotes rrb show different forms of some trait lrb phenotypes rrb and aa individuals lrb heterozygotes rrb show the same phenotype as aa individuals then allele a is said to dominate or be dominant to or show dominance to allele a and a is said to be recessive to a dominance is not inherent to either an allele or its phenotype it is a relationship between two alleles of a gene and their associated phenotypes one allele can be dominant over a second allele recessive to a third allele and codominant to a fourth also an allele may be dominant for a particular aspect of phenotype but not for other aspects influenced by the same gene dominance differs from epistasis a relationship in which an allele of one gene affects the expression of another allele at a different gene\n",
      "Claim: the miami heat had a player named lebron james\n",
      "Actual passage: 43410    lebron raymone james lrb lsb l br n rsb born d...\n",
      "Name: wiki_text, dtype: object\n",
      "Predicted top passage: los angeles county officially the county of los angeles is the most populous county in the united states its population is larger than that of 42 individual u s states it has 88 incorporated cities and many unincorporated areas and at 4083 sqmi it is larger than the combined areas of the u s states of delaware and rhode island the county is home to more than one quarter of california residents and is one of the most ethnically diverse counties in the u s its county seat the city of los angeles is also its most populous city at about four million\n",
      "Claim: avatar the last airbender s episodes have always been called episodes\n",
      "Actual passage: 7636    avatar the last airbender lrb avatar the legen...\n",
      "Name: wiki_text, dtype: object\n",
      "Predicted top passage: nitroplus co ltd stylized as nitro is a japanese visual novel computer software company that has developed a number of visual novels including eroge they also have been collaborating with type moon lrb another developer rrb to create the light novel series fate zero their works usually have dark themes such as reanimation of the dead rape and murder they also have a branch of the company called nitro chiral which focuses on boys love visual novels writers aligned with the company such as gen urobuchi have also contributed to various manga anime novel and television works super sonico is the mascot of nitroplus annual music festival event nitro super sonico since 2006 nitroplus has held their music festival every year since 2000\n"
     ]
    }
   ],
   "source": [
    "for i in range(5):\n",
    "    claim = to_predict[i]\n",
    "    print(\"Claim:\", claim)\n",
    "    print(\"Actual passage:\", merged_df[merged_df['claim'] == claim]['wiki_text'])\n",
    "    print(\"Predicted top passage:\", predicted_passages[i][0])"
   ]
  },
  {
   "cell_type": "code",
   "execution_count": null,
   "id": "1a581805",
   "metadata": {},
   "outputs": [],
   "source": []
  },
  {
   "cell_type": "markdown",
   "id": "68ca0262",
   "metadata": {},
   "source": [
    "## NOTE:\n",
    "\n",
    "OUTPUT DOCUMENT FORMAT (JSON):\n",
    "\n",
    "{\"claim_id\": [\"wiki_title1\", \"wiki_title2\", ...]}"
   ]
  }
 ],
 "metadata": {
  "kernelspec": {
   "display_name": "Python faiss_1.7.4",
   "language": "python",
   "name": "faiss_1.7.4"
  },
  "language_info": {
   "codemirror_mode": {
    "name": "ipython",
    "version": 3
   },
   "file_extension": ".py",
   "mimetype": "text/x-python",
   "name": "python",
   "nbconvert_exporter": "python",
   "pygments_lexer": "ipython3",
   "version": "3.10.13"
  }
 },
 "nbformat": 4,
 "nbformat_minor": 5
}
