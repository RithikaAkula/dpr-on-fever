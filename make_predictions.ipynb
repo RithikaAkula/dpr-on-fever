{
 "cells": [
  {
   "cell_type": "markdown",
   "id": "14720560",
   "metadata": {},
   "source": [
    "## LOADING PRETRAINED MODEL"
   ]
  },
  {
   "cell_type": "code",
   "execution_count": 2,
   "id": "84599d0f",
   "metadata": {},
   "outputs": [],
   "source": [
    "import pandas as pd"
   ]
  },
  {
   "cell_type": "code",
   "execution_count": 20,
   "id": "0f0657b0",
   "metadata": {},
   "outputs": [],
   "source": [
    "from simpletransformers.retrieval import RetrievalModel\n",
    "\n",
    "\n",
    "model_type = \"dpr\"\n",
    "model_name = \"/home/rahvk/data/tmp/cache/model-hn-10/checkpoint-40000\"\n",
    "\n",
    "# Initialize a RetrievalModel\n",
    "model = RetrievalModel(\n",
    "    model_type=model_type,\n",
    "    model_name=model_name,\n",
    ")"
   ]
  },
  {
   "cell_type": "markdown",
   "id": "4666ace2",
   "metadata": {},
   "source": [
    "## EVALUATING LOADED MODEL"
   ]
  },
  {
   "cell_type": "code",
   "execution_count": 21,
   "id": "243cee7d",
   "metadata": {},
   "outputs": [],
   "source": [
    "train_data = pd.read_parquet('processed_df/train_data.parquet')\n"
   ]
  },
  {
   "cell_type": "code",
   "execution_count": null,
   "id": "320bda76",
   "metadata": {},
   "outputs": [
    {
     "data": {
      "application/vnd.jupyter.widget-view+json": {
       "model_id": "db1048d1493b4aa0b5380228ddd950f3",
       "version_major": 2,
       "version_minor": 0
      },
      "text/plain": [
       "Map:   0%|          | 0/102748 [00:00<?, ? examples/s]"
      ]
     },
     "metadata": {},
     "output_type": "display_data"
    },
    {
     "data": {
      "application/vnd.jupyter.widget-view+json": {
       "model_id": "3bff642a87854f30b9e17a3fc274b53d",
       "version_major": 2,
       "version_minor": 0
      },
      "text/plain": [
       "Map:   0%|          | 0/102748 [00:00<?, ? examples/s]"
      ]
     },
     "metadata": {},
     "output_type": "display_data"
    },
    {
     "data": {
      "application/vnd.jupyter.widget-view+json": {
       "model_id": "328041ffe97b42cf86a10993bd5c5e28",
       "version_major": 2,
       "version_minor": 0
      },
      "text/plain": [
       "Map:   0%|          | 0/102748 [00:00<?, ? examples/s]"
      ]
     },
     "metadata": {},
     "output_type": "display_data"
    },
    {
     "data": {
      "application/vnd.jupyter.widget-view+json": {
       "model_id": "4c35b90fb4064da09799b78eacef8a96",
       "version_major": 2,
       "version_minor": 0
      },
      "text/plain": [
       "Saving the dataset (0/1 shards):   0%|          | 0/102748 [00:00<?, ? examples/s]"
      ]
     },
     "metadata": {},
     "output_type": "display_data"
    },
    {
     "data": {
      "application/vnd.jupyter.widget-view+json": {
       "model_id": "c219ffe9f55d40088e580011e8b9269e",
       "version_major": 2,
       "version_minor": 0
      },
      "text/plain": [
       "  0%|          | 0/103 [00:00<?, ?it/s]"
      ]
     },
     "metadata": {},
     "output_type": "display_data"
    },
    {
     "data": {
      "application/vnd.jupyter.widget-view+json": {
       "model_id": "5c5a92b4ce124d71948f1ad6b446344a",
       "version_major": 2,
       "version_minor": 0
      },
      "text/plain": [
       "Map:   0%|          | 0/102748 [00:00<?, ? examples/s]"
      ]
     },
     "metadata": {},
     "output_type": "display_data"
    }
   ],
   "source": [
    "result = model.eval_model(train_data)\n"
   ]
  },
  {
   "cell_type": "code",
   "execution_count": null,
   "id": "cfe78ffe",
   "metadata": {},
   "outputs": [],
   "source": [
    "res, doc_ids, doc_vectors, doc_dicts = result\n",
    "res"
   ]
  },
  {
   "cell_type": "markdown",
   "id": "5ade6162",
   "metadata": {},
   "source": [
    "## MAKING PREDICTIONS"
   ]
  },
  {
   "cell_type": "code",
   "execution_count": 3,
   "id": "388afc02",
   "metadata": {},
   "outputs": [],
   "source": [
    "merged_df = pd.read_parquet('processed_df/merged_df.parquet')\n"
   ]
  },
  {
   "cell_type": "code",
   "execution_count": 4,
   "id": "3f306103",
   "metadata": {},
   "outputs": [
    {
     "data": {
      "text/html": [
       "<div>\n",
       "<style scoped>\n",
       "    .dataframe tbody tr th:only-of-type {\n",
       "        vertical-align: middle;\n",
       "    }\n",
       "\n",
       "    .dataframe tbody tr th {\n",
       "        vertical-align: top;\n",
       "    }\n",
       "\n",
       "    .dataframe thead th {\n",
       "        text-align: right;\n",
       "    }\n",
       "</style>\n",
       "<table border=\"1\" class=\"dataframe\">\n",
       "  <thead>\n",
       "    <tr style=\"text-align: right;\">\n",
       "      <th></th>\n",
       "      <th>claim_id</th>\n",
       "      <th>label</th>\n",
       "      <th>claim</th>\n",
       "      <th>wiki_title</th>\n",
       "      <th>wiki_index</th>\n",
       "      <th>wiki_text</th>\n",
       "    </tr>\n",
       "  </thead>\n",
       "  <tbody>\n",
       "    <tr>\n",
       "      <th>0</th>\n",
       "      <td>75397</td>\n",
       "      <td>SUPPORTS</td>\n",
       "      <td>nikolaj coster waldau worked with the fox broa...</td>\n",
       "      <td>Nikolaj_Coster-Waldau</td>\n",
       "      <td>3508521</td>\n",
       "      <td>nikolaj coster waldau lrb lsb ne ola k sd ald ...</td>\n",
       "    </tr>\n",
       "    <tr>\n",
       "      <th>1</th>\n",
       "      <td>58718</td>\n",
       "      <td>REFUTES</td>\n",
       "      <td>nikolaj coster waldau was not in a danish thri...</td>\n",
       "      <td>Nikolaj_Coster-Waldau</td>\n",
       "      <td>3508521</td>\n",
       "      <td>nikolaj coster waldau lrb lsb ne ola k sd ald ...</td>\n",
       "    </tr>\n",
       "    <tr>\n",
       "      <th>2</th>\n",
       "      <td>134655</td>\n",
       "      <td>SUPPORTS</td>\n",
       "      <td>nikolaj coster waldau worked with peter dinklage</td>\n",
       "      <td>Nikolaj_Coster-Waldau</td>\n",
       "      <td>3508521</td>\n",
       "      <td>nikolaj coster waldau lrb lsb ne ola k sd ald ...</td>\n",
       "    </tr>\n",
       "    <tr>\n",
       "      <th>3</th>\n",
       "      <td>86306</td>\n",
       "      <td>REFUTES</td>\n",
       "      <td>nikolaj coster waldau refused to ever work wit...</td>\n",
       "      <td>Nikolaj_Coster-Waldau</td>\n",
       "      <td>3508521</td>\n",
       "      <td>nikolaj coster waldau lrb lsb ne ola k sd ald ...</td>\n",
       "    </tr>\n",
       "    <tr>\n",
       "      <th>4</th>\n",
       "      <td>149361</td>\n",
       "      <td>SUPPORTS</td>\n",
       "      <td>nikolaj coster waldau was in a film</td>\n",
       "      <td>Nikolaj_Coster-Waldau</td>\n",
       "      <td>3508521</td>\n",
       "      <td>nikolaj coster waldau lrb lsb ne ola k sd ald ...</td>\n",
       "    </tr>\n",
       "  </tbody>\n",
       "</table>\n",
       "</div>"
      ],
      "text/plain": [
       "   claim_id     label                                              claim  \\\n",
       "0     75397  SUPPORTS  nikolaj coster waldau worked with the fox broa...   \n",
       "1     58718   REFUTES  nikolaj coster waldau was not in a danish thri...   \n",
       "2    134655  SUPPORTS   nikolaj coster waldau worked with peter dinklage   \n",
       "3     86306   REFUTES  nikolaj coster waldau refused to ever work wit...   \n",
       "4    149361  SUPPORTS                nikolaj coster waldau was in a film   \n",
       "\n",
       "              wiki_title  wiki_index  \\\n",
       "0  Nikolaj_Coster-Waldau     3508521   \n",
       "1  Nikolaj_Coster-Waldau     3508521   \n",
       "2  Nikolaj_Coster-Waldau     3508521   \n",
       "3  Nikolaj_Coster-Waldau     3508521   \n",
       "4  Nikolaj_Coster-Waldau     3508521   \n",
       "\n",
       "                                           wiki_text  \n",
       "0  nikolaj coster waldau lrb lsb ne ola k sd ald ...  \n",
       "1  nikolaj coster waldau lrb lsb ne ola k sd ald ...  \n",
       "2  nikolaj coster waldau lrb lsb ne ola k sd ald ...  \n",
       "3  nikolaj coster waldau lrb lsb ne ola k sd ald ...  \n",
       "4  nikolaj coster waldau lrb lsb ne ola k sd ald ...  "
      ]
     },
     "execution_count": 4,
     "metadata": {},
     "output_type": "execute_result"
    }
   ],
   "source": [
    "merged_df.head()"
   ]
  },
  {
   "cell_type": "code",
   "execution_count": 8,
   "id": "66b59982",
   "metadata": {},
   "outputs": [],
   "source": [
    "queries = list(set(merged_df['claim']))\n",
    "passages = list(set(merged_df['wiki_text']))"
   ]
  },
  {
   "cell_type": "code",
   "execution_count": 9,
   "id": "db189e05",
   "metadata": {},
   "outputs": [],
   "source": [
    "to_predict = queries[:5]"
   ]
  },
  {
   "cell_type": "code",
   "execution_count": 10,
   "id": "d3ea92af",
   "metadata": {},
   "outputs": [
    {
     "data": {
      "application/vnd.jupyter.widget-view+json": {
       "model_id": "33dbca4e3abf4a6e9a22afddf4324d8a",
       "version_major": 2,
       "version_minor": 0
      },
      "text/plain": [
       "Map:   0%|          | 0/9528 [00:00<?, ? examples/s]"
      ]
     },
     "metadata": {},
     "output_type": "display_data"
    },
    {
     "data": {
      "application/vnd.jupyter.widget-view+json": {
       "model_id": "9e6bdb1d3d8443149549dd46190da6e6",
       "version_major": 2,
       "version_minor": 0
      },
      "text/plain": [
       "Saving the dataset (0/1 shards):   0%|          | 0/9528 [00:00<?, ? examples/s]"
      ]
     },
     "metadata": {},
     "output_type": "display_data"
    },
    {
     "data": {
      "application/vnd.jupyter.widget-view+json": {
       "model_id": "ff00c9a11f244c898d2de69877761cc2",
       "version_major": 2,
       "version_minor": 0
      },
      "text/plain": [
       "  0%|          | 0/10 [00:00<?, ?it/s]"
      ]
     },
     "metadata": {},
     "output_type": "display_data"
    },
    {
     "data": {
      "application/vnd.jupyter.widget-view+json": {
       "model_id": "e25fb8d446e94c88b56f09b25ce1f47c",
       "version_major": 2,
       "version_minor": 0
      },
      "text/plain": [
       "Generating query embeddings: 0it [00:00, ?it/s]"
      ]
     },
     "metadata": {},
     "output_type": "display_data"
    },
    {
     "data": {
      "application/vnd.jupyter.widget-view+json": {
       "model_id": "3d7cbb7067ce48b8973ef2cfddb06858",
       "version_major": 2,
       "version_minor": 0
      },
      "text/plain": [
       "Retrieving docs:   0%|          | 0/1 [00:00<?, ?it/s]"
      ]
     },
     "metadata": {},
     "output_type": "display_data"
    }
   ],
   "source": [
    "predicted_passages, doc_ids, doc_vectors, doc_dicts = model.predict(to_predict, prediction_passages=passages)"
   ]
  },
  {
   "cell_type": "markdown",
   "id": "76286e34",
   "metadata": {},
   "source": [
    "Note: predicted_passages is a list of lists having predicted top-10 documents per claim in the 'to_predict' list"
   ]
  },
  {
   "cell_type": "code",
   "execution_count": 16,
   "id": "bae9507e",
   "metadata": {},
   "outputs": [
    {
     "name": "stdout",
     "output_type": "stream",
     "text": [
      "5\n",
      "10\n"
     ]
    }
   ],
   "source": [
    "print(len(predicted_passages))\n",
    "print(len(predicted_passages[0]))"
   ]
  },
  {
   "cell_type": "code",
   "execution_count": 19,
   "id": "003d1545",
   "metadata": {},
   "outputs": [
    {
     "name": "stdout",
     "output_type": "stream",
     "text": [
      "Claim: tony bill directed a film written by alan ormsby\n",
      "Actual passage: 33261    my bodyguard is a 1980 american comedy drama f...\n",
      "Name: wiki_text, dtype: object\n",
      "Predicted top passage: forcetoc in the united states motion picture industry a limited release is where a new film is played in a select few theaters across the country typically in major metropolitan markets a limited release is often used to gauge the appeal of specialty films like documentaries independent films and art films a common practice by film studios is to give highly anticipated and critically acclaimed films a limited release on or before december 31 in los angeles in order to qualify for an academy award nomination lrb as set by its rules rrb these films are almost always released to a wider audience in january or february of the following year one notable exception is the rocky horror picture show which premiered in 1975 and is still only shown in limited fashion lrb it is the longest running theatrical release in film history rrb\n",
      "Claim: avengers age of ultron is non fiction\n",
      "Actual passage: 47069    avengers age of ultron is a 2015 american supe...\n",
      "Name: wiki_text, dtype: object\n",
      "Predicted top passage: adult animation adult cartoon or mature animation is any type of animation work that is mainly targeted towards adults and sometimes also teenagers acting as a contrast to most animated films and tv series being aimed at children works in this genre may be considered adult for any number of reasons they may be noted for using risqu themes graphic violence profane language sexuality or dark humor works in this genre may explore philosophical political or social issues some productions are noted for sophisticated and or experimental storytelling and animation techniques before the enforcement of the hays code some cartoon shorts contained humor that was aimed at adult audience members rather than children following the introduction of the motion picture association of america film rating system independent animation producers attempted to establish an alternative to mainstream animation initially few animation studios in the united states attempted to produce animation for adult audiences but later examples of animation produced for adults would gain mainstream attention and success\n",
      "Claim: melilla has an area of 12 3 km2 within africa\n",
      "Actual passage: 93917    melilla lrb lsb m li j rsb lsb me li a rsb lsb...\n",
      "Name: wiki_text, dtype: object\n",
      "Predicted top passage: construction aggregate or simply aggregate is a broad category of coarse particulate material used in construction including sand gravel crushed stone slag recycled concrete and geosynthetic aggregates aggregates are the most mined materials in the world aggregates are a component of composite materials such as concrete and asphalt concrete the aggregate serves as reinforcement to add strength to the overall composite material due to the relatively high hydraulic conductivity value as compared to most soils aggregates are widely used in drainage applications such as foundation and french drains septic drain fields retaining wall drains and road side edge drains aggregates are also used as base material under foundations roads and railroads in other words aggregates are used as a stable foundation or road rail base with predictable uniform properties lrb e g to help prevent differential settling under the road or building rrb or as a low cost extender that binds with more expensive cement or asphalt to form concrete preferred bitumenous aggregate sizes for road construction are given in en 13043 as d d lrb where the range shows the smallest and largest square mesh grating that the particles can pass rrb the same classification sizing is used for larger armour stone sizes in en 13383 en 12620 for concrete aggregate en 13242 for base layers of road construction and en 13450 for railway ballast the american society for testing and materials lrb astm rrb publishes an exhaustive listing of specifications including astm d 692 and astm d 1073 for various construction aggregate products which by their individual design are suitable for specific construction purposes these products include specific types of coarse and fine aggregate designed for such uses as additives to asphalt and concrete mixes as well as other construction uses state transportation departments further refine aggregate material specifications in order to tailor aggregate use to the needs and available supply in their particular locations sources for these basic materials can be grouped into three main areas mining of mineral aggregate deposits including sand gravel and stone use of waste slag from the manufacture of iron and steel and recycling of concrete which is itself chiefly manufactured from mineral aggregates in addition there are some lrb minor rrb materials that are used as specialty lightweight aggregates clay pumice perlite and vermiculite\n",
      "Claim: davis guggenheim is an american television director\n",
      "Actual passage: 50208    philip davis guggenheim lrb born november 3 19...\n",
      "Name: wiki_text, dtype: object\n",
      "Predicted top passage: forcetoc in the united states motion picture industry a limited release is where a new film is played in a select few theaters across the country typically in major metropolitan markets a limited release is often used to gauge the appeal of specialty films like documentaries independent films and art films a common practice by film studios is to give highly anticipated and critically acclaimed films a limited release on or before december 31 in los angeles in order to qualify for an academy award nomination lrb as set by its rules rrb these films are almost always released to a wider audience in january or february of the following year one notable exception is the rocky horror picture show which premiered in 1975 and is still only shown in limited fashion lrb it is the longest running theatrical release in film history rrb\n",
      "Claim: myles kennedy has only ever been a part of the band the mayfield four\n",
      "Actual passage: 11075    myles richard kennedy lrb born myles richard b...\n",
      "Name: wiki_text, dtype: object\n",
      "Predicted top passage: detroit michigan is a major center in the united states for the creation and performance of music and is the birthplace of the musical subgenres known as the motown sound and techno the metro detroit area has a rich musical history spanning the past century beginning with the revival of the world renowned detroit symphony orchestra in 1918 the major genres represented in detroit music include classical blues jazz gospel r b rock and roll pop punk soul electronica and hip hop the greater detroit area has been the birthplace and or primary venue for numerous platinum selling artists whose total album sales according to one estimate had surpassed 40 million units by the year 2000 the success of detroit based hip hop artists quadrupled that figure in the first decade of the 2000s\n"
     ]
    }
   ],
   "source": [
    "for i in range(5):\n",
    "    claim = to_predict[i]\n",
    "    print(\"Claim:\", claim)\n",
    "    print(\"Actual passage:\", merged_df[merged_df['claim'] == claim]['wiki_text'])\n",
    "    print(\"Predicted top passage:\", predicted_passages[i][0])"
   ]
  },
  {
   "cell_type": "code",
   "execution_count": null,
   "id": "7e7da6cc",
   "metadata": {},
   "outputs": [],
   "source": []
  }
 ],
 "metadata": {
  "kernelspec": {
   "display_name": "Python faiss_1.7.4",
   "language": "python",
   "name": "faiss_1.7.4"
  },
  "language_info": {
   "codemirror_mode": {
    "name": "ipython",
    "version": 3
   },
   "file_extension": ".py",
   "mimetype": "text/x-python",
   "name": "python",
   "nbconvert_exporter": "python",
   "pygments_lexer": "ipython3",
   "version": "3.10.13"
  }
 },
 "nbformat": 4,
 "nbformat_minor": 5
}
